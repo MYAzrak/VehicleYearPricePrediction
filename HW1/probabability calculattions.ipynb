{
  "nbformat": 4,
  "nbformat_minor": 0,
  "metadata": {
    "colab": {
      "provenance": []
    },
    "kernelspec": {
      "name": "python3",
      "display_name": "Python 3"
    },
    "language_info": {
      "name": "python"
    }
  },
  "cells": [
    {
      "cell_type": "code",
      "execution_count": 2,
      "metadata": {
        "id": "Nvw1QQhJBH9B"
      },
      "outputs": [],
      "source": [
        "import pandas as pd\n",
        "\n",
        "# Read the uploaded file into a DataFrame\n",
        "df = pd.read_csv('dubai_properties.csv')"
      ]
    },
    {
      "cell_type": "code",
      "source": [
        "import numpy as np"
      ],
      "metadata": {
        "id": "oYRfk1sWE6yK"
      },
      "execution_count": 3,
      "outputs": []
    },
    {
      "cell_type": "code",
      "source": [
        "df"
      ],
      "metadata": {
        "colab": {
          "base_uri": "https://localhost:8080/",
          "height": 1000
        },
        "id": "VuVfuYKGEfxz",
        "outputId": "ced97467-4606-44d1-99f7-de3c52b2bff1"
      },
      "execution_count": 4,
      "outputs": [
        {
          "output_type": "execute_result",
          "data": {
            "text/plain": [
              "                                                 Address    Rent  Beds  Baths  \\\n",
              "0      The Gate Tower 2, The Gate Tower, Shams Gate D...  124000     3      4   \n",
              "1                    Water's Edge, Yas Island, Abu Dhabi  140000     3      4   \n",
              "2                Al Raha Lofts, Al Raha Beach, Abu Dhabi   99000     2      3   \n",
              "3      Marina Heights, Marina Square, Al Reem Island,...  220000     3      4   \n",
              "4                        West Yas, Yas Island, Abu Dhabi  350000     5      7   \n",
              "...                                                  ...     ...   ...    ...   \n",
              "73736             Al Huboob 1, Al Salamah, Umm Al Quwain   14000     0      1   \n",
              "73737                Umm Al Quwain Marina, Umm Al Quwain   14000     0      1   \n",
              "73738                  King Faisal Street, Umm Al Quwain   50000     3      4   \n",
              "73739                           Al Maqtaa, Umm Al Quwain   37000     1      2   \n",
              "73740                             Al Rass, Umm Al Quwain   11000     0      1   \n",
              "\n",
              "            Type  Area_in_sqft  Rent_per_sqft Rent_category Frequency  \\\n",
              "0      Apartment          1785      69.467787        Medium    Yearly   \n",
              "1      Apartment          1422      98.452883        Medium    Yearly   \n",
              "2      Apartment          1314      75.342466        Medium    Yearly   \n",
              "3      Penthouse          3843      57.246942          High    Yearly   \n",
              "4          Villa          6860      51.020408          High    Yearly   \n",
              "...          ...           ...            ...           ...       ...   \n",
              "73736  Apartment           419      33.412888           Low    Yearly   \n",
              "73737  Apartment           500      28.000000           Low    Yearly   \n",
              "73738  Apartment          2000      25.000000           Low    Yearly   \n",
              "73739  Apartment           989      37.411527           Low    Yearly   \n",
              "73740  Apartment           300      36.666667           Low    Yearly   \n",
              "\n",
              "        Furnishing   Purpose Posted_date  Age_of_listing_in_days  \\\n",
              "0      Unfurnished  For Rent  07/03/2024                      45   \n",
              "1      Unfurnished  For Rent  08/03/2024                      44   \n",
              "2        Furnished  For Rent  21/03/2024                      31   \n",
              "3      Unfurnished  For Rent  24/02/2024                      57   \n",
              "4      Unfurnished  For Rent  16/02/2024                      65   \n",
              "...            ...       ...         ...                     ...   \n",
              "73736  Unfurnished  For Rent  14/12/2023                     129   \n",
              "73737  Unfurnished  For Rent  14/12/2023                     129   \n",
              "73738  Unfurnished  For Rent  02/01/2024                     110   \n",
              "73739  Unfurnished  For Rent  23/10/2023                     181   \n",
              "73740  Unfurnished  For Rent  12/02/2024                      69   \n",
              "\n",
              "                   Location           City     Latitude    Longitude  \n",
              "0            Al Reem Island      Abu Dhabi   24.4935984  54.40784051  \n",
              "1                Yas Island      Abu Dhabi   24.4940223   54.6073721  \n",
              "2             Al Raha Beach      Abu Dhabi  24.48593095  54.60093933  \n",
              "3            Al Reem Island      Abu Dhabi   24.4935984  54.40784051  \n",
              "4                Yas Island      Abu Dhabi   24.4940223   54.6073721  \n",
              "...                     ...            ...          ...          ...  \n",
              "73736            Al Salamah  Umm Al Quwain   25.4934115   55.5759942  \n",
              "73737  Umm Al Quwain Marina  Umm Al Quwain    25.527959   55.6065272  \n",
              "73738    King Faisal Street  Umm Al Quwain            *            *  \n",
              "73739             Al Maqtaa  Umm Al Quwain            *            *  \n",
              "73740               Al Rass  Umm Al Quwain            *            *  \n",
              "\n",
              "[73741 rows x 17 columns]"
            ],
            "text/html": [
              "\n",
              "  <div id=\"df-f8a70352-8836-4c21-94bf-71fc720c30f6\" class=\"colab-df-container\">\n",
              "    <div>\n",
              "<style scoped>\n",
              "    .dataframe tbody tr th:only-of-type {\n",
              "        vertical-align: middle;\n",
              "    }\n",
              "\n",
              "    .dataframe tbody tr th {\n",
              "        vertical-align: top;\n",
              "    }\n",
              "\n",
              "    .dataframe thead th {\n",
              "        text-align: right;\n",
              "    }\n",
              "</style>\n",
              "<table border=\"1\" class=\"dataframe\">\n",
              "  <thead>\n",
              "    <tr style=\"text-align: right;\">\n",
              "      <th></th>\n",
              "      <th>Address</th>\n",
              "      <th>Rent</th>\n",
              "      <th>Beds</th>\n",
              "      <th>Baths</th>\n",
              "      <th>Type</th>\n",
              "      <th>Area_in_sqft</th>\n",
              "      <th>Rent_per_sqft</th>\n",
              "      <th>Rent_category</th>\n",
              "      <th>Frequency</th>\n",
              "      <th>Furnishing</th>\n",
              "      <th>Purpose</th>\n",
              "      <th>Posted_date</th>\n",
              "      <th>Age_of_listing_in_days</th>\n",
              "      <th>Location</th>\n",
              "      <th>City</th>\n",
              "      <th>Latitude</th>\n",
              "      <th>Longitude</th>\n",
              "    </tr>\n",
              "  </thead>\n",
              "  <tbody>\n",
              "    <tr>\n",
              "      <th>0</th>\n",
              "      <td>The Gate Tower 2, The Gate Tower, Shams Gate D...</td>\n",
              "      <td>124000</td>\n",
              "      <td>3</td>\n",
              "      <td>4</td>\n",
              "      <td>Apartment</td>\n",
              "      <td>1785</td>\n",
              "      <td>69.467787</td>\n",
              "      <td>Medium</td>\n",
              "      <td>Yearly</td>\n",
              "      <td>Unfurnished</td>\n",
              "      <td>For Rent</td>\n",
              "      <td>07/03/2024</td>\n",
              "      <td>45</td>\n",
              "      <td>Al Reem Island</td>\n",
              "      <td>Abu Dhabi</td>\n",
              "      <td>24.4935984</td>\n",
              "      <td>54.40784051</td>\n",
              "    </tr>\n",
              "    <tr>\n",
              "      <th>1</th>\n",
              "      <td>Water's Edge, Yas Island, Abu Dhabi</td>\n",
              "      <td>140000</td>\n",
              "      <td>3</td>\n",
              "      <td>4</td>\n",
              "      <td>Apartment</td>\n",
              "      <td>1422</td>\n",
              "      <td>98.452883</td>\n",
              "      <td>Medium</td>\n",
              "      <td>Yearly</td>\n",
              "      <td>Unfurnished</td>\n",
              "      <td>For Rent</td>\n",
              "      <td>08/03/2024</td>\n",
              "      <td>44</td>\n",
              "      <td>Yas Island</td>\n",
              "      <td>Abu Dhabi</td>\n",
              "      <td>24.4940223</td>\n",
              "      <td>54.6073721</td>\n",
              "    </tr>\n",
              "    <tr>\n",
              "      <th>2</th>\n",
              "      <td>Al Raha Lofts, Al Raha Beach, Abu Dhabi</td>\n",
              "      <td>99000</td>\n",
              "      <td>2</td>\n",
              "      <td>3</td>\n",
              "      <td>Apartment</td>\n",
              "      <td>1314</td>\n",
              "      <td>75.342466</td>\n",
              "      <td>Medium</td>\n",
              "      <td>Yearly</td>\n",
              "      <td>Furnished</td>\n",
              "      <td>For Rent</td>\n",
              "      <td>21/03/2024</td>\n",
              "      <td>31</td>\n",
              "      <td>Al Raha Beach</td>\n",
              "      <td>Abu Dhabi</td>\n",
              "      <td>24.48593095</td>\n",
              "      <td>54.60093933</td>\n",
              "    </tr>\n",
              "    <tr>\n",
              "      <th>3</th>\n",
              "      <td>Marina Heights, Marina Square, Al Reem Island,...</td>\n",
              "      <td>220000</td>\n",
              "      <td>3</td>\n",
              "      <td>4</td>\n",
              "      <td>Penthouse</td>\n",
              "      <td>3843</td>\n",
              "      <td>57.246942</td>\n",
              "      <td>High</td>\n",
              "      <td>Yearly</td>\n",
              "      <td>Unfurnished</td>\n",
              "      <td>For Rent</td>\n",
              "      <td>24/02/2024</td>\n",
              "      <td>57</td>\n",
              "      <td>Al Reem Island</td>\n",
              "      <td>Abu Dhabi</td>\n",
              "      <td>24.4935984</td>\n",
              "      <td>54.40784051</td>\n",
              "    </tr>\n",
              "    <tr>\n",
              "      <th>4</th>\n",
              "      <td>West Yas, Yas Island, Abu Dhabi</td>\n",
              "      <td>350000</td>\n",
              "      <td>5</td>\n",
              "      <td>7</td>\n",
              "      <td>Villa</td>\n",
              "      <td>6860</td>\n",
              "      <td>51.020408</td>\n",
              "      <td>High</td>\n",
              "      <td>Yearly</td>\n",
              "      <td>Unfurnished</td>\n",
              "      <td>For Rent</td>\n",
              "      <td>16/02/2024</td>\n",
              "      <td>65</td>\n",
              "      <td>Yas Island</td>\n",
              "      <td>Abu Dhabi</td>\n",
              "      <td>24.4940223</td>\n",
              "      <td>54.6073721</td>\n",
              "    </tr>\n",
              "    <tr>\n",
              "      <th>...</th>\n",
              "      <td>...</td>\n",
              "      <td>...</td>\n",
              "      <td>...</td>\n",
              "      <td>...</td>\n",
              "      <td>...</td>\n",
              "      <td>...</td>\n",
              "      <td>...</td>\n",
              "      <td>...</td>\n",
              "      <td>...</td>\n",
              "      <td>...</td>\n",
              "      <td>...</td>\n",
              "      <td>...</td>\n",
              "      <td>...</td>\n",
              "      <td>...</td>\n",
              "      <td>...</td>\n",
              "      <td>...</td>\n",
              "      <td>...</td>\n",
              "    </tr>\n",
              "    <tr>\n",
              "      <th>73736</th>\n",
              "      <td>Al Huboob 1, Al Salamah, Umm Al Quwain</td>\n",
              "      <td>14000</td>\n",
              "      <td>0</td>\n",
              "      <td>1</td>\n",
              "      <td>Apartment</td>\n",
              "      <td>419</td>\n",
              "      <td>33.412888</td>\n",
              "      <td>Low</td>\n",
              "      <td>Yearly</td>\n",
              "      <td>Unfurnished</td>\n",
              "      <td>For Rent</td>\n",
              "      <td>14/12/2023</td>\n",
              "      <td>129</td>\n",
              "      <td>Al Salamah</td>\n",
              "      <td>Umm Al Quwain</td>\n",
              "      <td>25.4934115</td>\n",
              "      <td>55.5759942</td>\n",
              "    </tr>\n",
              "    <tr>\n",
              "      <th>73737</th>\n",
              "      <td>Umm Al Quwain Marina, Umm Al Quwain</td>\n",
              "      <td>14000</td>\n",
              "      <td>0</td>\n",
              "      <td>1</td>\n",
              "      <td>Apartment</td>\n",
              "      <td>500</td>\n",
              "      <td>28.000000</td>\n",
              "      <td>Low</td>\n",
              "      <td>Yearly</td>\n",
              "      <td>Unfurnished</td>\n",
              "      <td>For Rent</td>\n",
              "      <td>14/12/2023</td>\n",
              "      <td>129</td>\n",
              "      <td>Umm Al Quwain Marina</td>\n",
              "      <td>Umm Al Quwain</td>\n",
              "      <td>25.527959</td>\n",
              "      <td>55.6065272</td>\n",
              "    </tr>\n",
              "    <tr>\n",
              "      <th>73738</th>\n",
              "      <td>King Faisal Street, Umm Al Quwain</td>\n",
              "      <td>50000</td>\n",
              "      <td>3</td>\n",
              "      <td>4</td>\n",
              "      <td>Apartment</td>\n",
              "      <td>2000</td>\n",
              "      <td>25.000000</td>\n",
              "      <td>Low</td>\n",
              "      <td>Yearly</td>\n",
              "      <td>Unfurnished</td>\n",
              "      <td>For Rent</td>\n",
              "      <td>02/01/2024</td>\n",
              "      <td>110</td>\n",
              "      <td>King Faisal Street</td>\n",
              "      <td>Umm Al Quwain</td>\n",
              "      <td>*</td>\n",
              "      <td>*</td>\n",
              "    </tr>\n",
              "    <tr>\n",
              "      <th>73739</th>\n",
              "      <td>Al Maqtaa, Umm Al Quwain</td>\n",
              "      <td>37000</td>\n",
              "      <td>1</td>\n",
              "      <td>2</td>\n",
              "      <td>Apartment</td>\n",
              "      <td>989</td>\n",
              "      <td>37.411527</td>\n",
              "      <td>Low</td>\n",
              "      <td>Yearly</td>\n",
              "      <td>Unfurnished</td>\n",
              "      <td>For Rent</td>\n",
              "      <td>23/10/2023</td>\n",
              "      <td>181</td>\n",
              "      <td>Al Maqtaa</td>\n",
              "      <td>Umm Al Quwain</td>\n",
              "      <td>*</td>\n",
              "      <td>*</td>\n",
              "    </tr>\n",
              "    <tr>\n",
              "      <th>73740</th>\n",
              "      <td>Al Rass, Umm Al Quwain</td>\n",
              "      <td>11000</td>\n",
              "      <td>0</td>\n",
              "      <td>1</td>\n",
              "      <td>Apartment</td>\n",
              "      <td>300</td>\n",
              "      <td>36.666667</td>\n",
              "      <td>Low</td>\n",
              "      <td>Yearly</td>\n",
              "      <td>Unfurnished</td>\n",
              "      <td>For Rent</td>\n",
              "      <td>12/02/2024</td>\n",
              "      <td>69</td>\n",
              "      <td>Al Rass</td>\n",
              "      <td>Umm Al Quwain</td>\n",
              "      <td>*</td>\n",
              "      <td>*</td>\n",
              "    </tr>\n",
              "  </tbody>\n",
              "</table>\n",
              "<p>73741 rows × 17 columns</p>\n",
              "</div>\n",
              "    <div class=\"colab-df-buttons\">\n",
              "\n",
              "  <div class=\"colab-df-container\">\n",
              "    <button class=\"colab-df-convert\" onclick=\"convertToInteractive('df-f8a70352-8836-4c21-94bf-71fc720c30f6')\"\n",
              "            title=\"Convert this dataframe to an interactive table.\"\n",
              "            style=\"display:none;\">\n",
              "\n",
              "  <svg xmlns=\"http://www.w3.org/2000/svg\" height=\"24px\" viewBox=\"0 -960 960 960\">\n",
              "    <path d=\"M120-120v-720h720v720H120Zm60-500h600v-160H180v160Zm220 220h160v-160H400v160Zm0 220h160v-160H400v160ZM180-400h160v-160H180v160Zm440 0h160v-160H620v160ZM180-180h160v-160H180v160Zm440 0h160v-160H620v160Z\"/>\n",
              "  </svg>\n",
              "    </button>\n",
              "\n",
              "  <style>\n",
              "    .colab-df-container {\n",
              "      display:flex;\n",
              "      gap: 12px;\n",
              "    }\n",
              "\n",
              "    .colab-df-convert {\n",
              "      background-color: #E8F0FE;\n",
              "      border: none;\n",
              "      border-radius: 50%;\n",
              "      cursor: pointer;\n",
              "      display: none;\n",
              "      fill: #1967D2;\n",
              "      height: 32px;\n",
              "      padding: 0 0 0 0;\n",
              "      width: 32px;\n",
              "    }\n",
              "\n",
              "    .colab-df-convert:hover {\n",
              "      background-color: #E2EBFA;\n",
              "      box-shadow: 0px 1px 2px rgba(60, 64, 67, 0.3), 0px 1px 3px 1px rgba(60, 64, 67, 0.15);\n",
              "      fill: #174EA6;\n",
              "    }\n",
              "\n",
              "    .colab-df-buttons div {\n",
              "      margin-bottom: 4px;\n",
              "    }\n",
              "\n",
              "    [theme=dark] .colab-df-convert {\n",
              "      background-color: #3B4455;\n",
              "      fill: #D2E3FC;\n",
              "    }\n",
              "\n",
              "    [theme=dark] .colab-df-convert:hover {\n",
              "      background-color: #434B5C;\n",
              "      box-shadow: 0px 1px 3px 1px rgba(0, 0, 0, 0.15);\n",
              "      filter: drop-shadow(0px 1px 2px rgba(0, 0, 0, 0.3));\n",
              "      fill: #FFFFFF;\n",
              "    }\n",
              "  </style>\n",
              "\n",
              "    <script>\n",
              "      const buttonEl =\n",
              "        document.querySelector('#df-f8a70352-8836-4c21-94bf-71fc720c30f6 button.colab-df-convert');\n",
              "      buttonEl.style.display =\n",
              "        google.colab.kernel.accessAllowed ? 'block' : 'none';\n",
              "\n",
              "      async function convertToInteractive(key) {\n",
              "        const element = document.querySelector('#df-f8a70352-8836-4c21-94bf-71fc720c30f6');\n",
              "        const dataTable =\n",
              "          await google.colab.kernel.invokeFunction('convertToInteractive',\n",
              "                                                    [key], {});\n",
              "        if (!dataTable) return;\n",
              "\n",
              "        const docLinkHtml = 'Like what you see? Visit the ' +\n",
              "          '<a target=\"_blank\" href=https://colab.research.google.com/notebooks/data_table.ipynb>data table notebook</a>'\n",
              "          + ' to learn more about interactive tables.';\n",
              "        element.innerHTML = '';\n",
              "        dataTable['output_type'] = 'display_data';\n",
              "        await google.colab.output.renderOutput(dataTable, element);\n",
              "        const docLink = document.createElement('div');\n",
              "        docLink.innerHTML = docLinkHtml;\n",
              "        element.appendChild(docLink);\n",
              "      }\n",
              "    </script>\n",
              "  </div>\n",
              "\n",
              "\n",
              "<div id=\"df-d4b334af-973d-4750-9235-46c55ceecd38\">\n",
              "  <button class=\"colab-df-quickchart\" onclick=\"quickchart('df-d4b334af-973d-4750-9235-46c55ceecd38')\"\n",
              "            title=\"Suggest charts\"\n",
              "            style=\"display:none;\">\n",
              "\n",
              "<svg xmlns=\"http://www.w3.org/2000/svg\" height=\"24px\"viewBox=\"0 0 24 24\"\n",
              "     width=\"24px\">\n",
              "    <g>\n",
              "        <path d=\"M19 3H5c-1.1 0-2 .9-2 2v14c0 1.1.9 2 2 2h14c1.1 0 2-.9 2-2V5c0-1.1-.9-2-2-2zM9 17H7v-7h2v7zm4 0h-2V7h2v10zm4 0h-2v-4h2v4z\"/>\n",
              "    </g>\n",
              "</svg>\n",
              "  </button>\n",
              "\n",
              "<style>\n",
              "  .colab-df-quickchart {\n",
              "      --bg-color: #E8F0FE;\n",
              "      --fill-color: #1967D2;\n",
              "      --hover-bg-color: #E2EBFA;\n",
              "      --hover-fill-color: #174EA6;\n",
              "      --disabled-fill-color: #AAA;\n",
              "      --disabled-bg-color: #DDD;\n",
              "  }\n",
              "\n",
              "  [theme=dark] .colab-df-quickchart {\n",
              "      --bg-color: #3B4455;\n",
              "      --fill-color: #D2E3FC;\n",
              "      --hover-bg-color: #434B5C;\n",
              "      --hover-fill-color: #FFFFFF;\n",
              "      --disabled-bg-color: #3B4455;\n",
              "      --disabled-fill-color: #666;\n",
              "  }\n",
              "\n",
              "  .colab-df-quickchart {\n",
              "    background-color: var(--bg-color);\n",
              "    border: none;\n",
              "    border-radius: 50%;\n",
              "    cursor: pointer;\n",
              "    display: none;\n",
              "    fill: var(--fill-color);\n",
              "    height: 32px;\n",
              "    padding: 0;\n",
              "    width: 32px;\n",
              "  }\n",
              "\n",
              "  .colab-df-quickchart:hover {\n",
              "    background-color: var(--hover-bg-color);\n",
              "    box-shadow: 0 1px 2px rgba(60, 64, 67, 0.3), 0 1px 3px 1px rgba(60, 64, 67, 0.15);\n",
              "    fill: var(--button-hover-fill-color);\n",
              "  }\n",
              "\n",
              "  .colab-df-quickchart-complete:disabled,\n",
              "  .colab-df-quickchart-complete:disabled:hover {\n",
              "    background-color: var(--disabled-bg-color);\n",
              "    fill: var(--disabled-fill-color);\n",
              "    box-shadow: none;\n",
              "  }\n",
              "\n",
              "  .colab-df-spinner {\n",
              "    border: 2px solid var(--fill-color);\n",
              "    border-color: transparent;\n",
              "    border-bottom-color: var(--fill-color);\n",
              "    animation:\n",
              "      spin 1s steps(1) infinite;\n",
              "  }\n",
              "\n",
              "  @keyframes spin {\n",
              "    0% {\n",
              "      border-color: transparent;\n",
              "      border-bottom-color: var(--fill-color);\n",
              "      border-left-color: var(--fill-color);\n",
              "    }\n",
              "    20% {\n",
              "      border-color: transparent;\n",
              "      border-left-color: var(--fill-color);\n",
              "      border-top-color: var(--fill-color);\n",
              "    }\n",
              "    30% {\n",
              "      border-color: transparent;\n",
              "      border-left-color: var(--fill-color);\n",
              "      border-top-color: var(--fill-color);\n",
              "      border-right-color: var(--fill-color);\n",
              "    }\n",
              "    40% {\n",
              "      border-color: transparent;\n",
              "      border-right-color: var(--fill-color);\n",
              "      border-top-color: var(--fill-color);\n",
              "    }\n",
              "    60% {\n",
              "      border-color: transparent;\n",
              "      border-right-color: var(--fill-color);\n",
              "    }\n",
              "    80% {\n",
              "      border-color: transparent;\n",
              "      border-right-color: var(--fill-color);\n",
              "      border-bottom-color: var(--fill-color);\n",
              "    }\n",
              "    90% {\n",
              "      border-color: transparent;\n",
              "      border-bottom-color: var(--fill-color);\n",
              "    }\n",
              "  }\n",
              "</style>\n",
              "\n",
              "  <script>\n",
              "    async function quickchart(key) {\n",
              "      const quickchartButtonEl =\n",
              "        document.querySelector('#' + key + ' button');\n",
              "      quickchartButtonEl.disabled = true;  // To prevent multiple clicks.\n",
              "      quickchartButtonEl.classList.add('colab-df-spinner');\n",
              "      try {\n",
              "        const charts = await google.colab.kernel.invokeFunction(\n",
              "            'suggestCharts', [key], {});\n",
              "      } catch (error) {\n",
              "        console.error('Error during call to suggestCharts:', error);\n",
              "      }\n",
              "      quickchartButtonEl.classList.remove('colab-df-spinner');\n",
              "      quickchartButtonEl.classList.add('colab-df-quickchart-complete');\n",
              "    }\n",
              "    (() => {\n",
              "      let quickchartButtonEl =\n",
              "        document.querySelector('#df-d4b334af-973d-4750-9235-46c55ceecd38 button');\n",
              "      quickchartButtonEl.style.display =\n",
              "        google.colab.kernel.accessAllowed ? 'block' : 'none';\n",
              "    })();\n",
              "  </script>\n",
              "</div>\n",
              "\n",
              "  <div id=\"id_8b4df391-695c-40de-93f6-45cbaebae3da\">\n",
              "    <style>\n",
              "      .colab-df-generate {\n",
              "        background-color: #E8F0FE;\n",
              "        border: none;\n",
              "        border-radius: 50%;\n",
              "        cursor: pointer;\n",
              "        display: none;\n",
              "        fill: #1967D2;\n",
              "        height: 32px;\n",
              "        padding: 0 0 0 0;\n",
              "        width: 32px;\n",
              "      }\n",
              "\n",
              "      .colab-df-generate:hover {\n",
              "        background-color: #E2EBFA;\n",
              "        box-shadow: 0px 1px 2px rgba(60, 64, 67, 0.3), 0px 1px 3px 1px rgba(60, 64, 67, 0.15);\n",
              "        fill: #174EA6;\n",
              "      }\n",
              "\n",
              "      [theme=dark] .colab-df-generate {\n",
              "        background-color: #3B4455;\n",
              "        fill: #D2E3FC;\n",
              "      }\n",
              "\n",
              "      [theme=dark] .colab-df-generate:hover {\n",
              "        background-color: #434B5C;\n",
              "        box-shadow: 0px 1px 3px 1px rgba(0, 0, 0, 0.15);\n",
              "        filter: drop-shadow(0px 1px 2px rgba(0, 0, 0, 0.3));\n",
              "        fill: #FFFFFF;\n",
              "      }\n",
              "    </style>\n",
              "    <button class=\"colab-df-generate\" onclick=\"generateWithVariable('df')\"\n",
              "            title=\"Generate code using this dataframe.\"\n",
              "            style=\"display:none;\">\n",
              "\n",
              "  <svg xmlns=\"http://www.w3.org/2000/svg\" height=\"24px\"viewBox=\"0 0 24 24\"\n",
              "       width=\"24px\">\n",
              "    <path d=\"M7,19H8.4L18.45,9,17,7.55,7,17.6ZM5,21V16.75L18.45,3.32a2,2,0,0,1,2.83,0l1.4,1.43a1.91,1.91,0,0,1,.58,1.4,1.91,1.91,0,0,1-.58,1.4L9.25,21ZM18.45,9,17,7.55Zm-12,3A5.31,5.31,0,0,0,4.9,8.1,5.31,5.31,0,0,0,1,6.5,5.31,5.31,0,0,0,4.9,4.9,5.31,5.31,0,0,0,6.5,1,5.31,5.31,0,0,0,8.1,4.9,5.31,5.31,0,0,0,12,6.5,5.46,5.46,0,0,0,6.5,12Z\"/>\n",
              "  </svg>\n",
              "    </button>\n",
              "    <script>\n",
              "      (() => {\n",
              "      const buttonEl =\n",
              "        document.querySelector('#id_8b4df391-695c-40de-93f6-45cbaebae3da button.colab-df-generate');\n",
              "      buttonEl.style.display =\n",
              "        google.colab.kernel.accessAllowed ? 'block' : 'none';\n",
              "\n",
              "      buttonEl.onclick = () => {\n",
              "        google.colab.notebook.generateWithVariable('df');\n",
              "      }\n",
              "      })();\n",
              "    </script>\n",
              "  </div>\n",
              "\n",
              "    </div>\n",
              "  </div>\n"
            ],
            "application/vnd.google.colaboratory.intrinsic+json": {
              "type": "dataframe",
              "variable_name": "df",
              "summary": "{\n  \"name\": \"df\",\n  \"rows\": 73741,\n  \"fields\": [\n    {\n      \"column\": \"Address\",\n      \"properties\": {\n        \"dtype\": \"category\",\n        \"num_unique_values\": 4515,\n        \"samples\": [\n          \"Rimal 2, Rimal, Jumeirah Beach Residence (JBR), Dubai\",\n          \"Heritage, Jumeirah Park, Dubai\",\n          \"Al Mahatta, Al Tiwayya, Al Ain\"\n        ],\n        \"semantic_type\": \"\",\n        \"description\": \"\"\n      }\n    },\n    {\n      \"column\": \"Rent\",\n      \"properties\": {\n        \"dtype\": \"number\",\n        \"std\": 231141,\n        \"min\": 0,\n        \"max\": 16000000,\n        \"num_unique_values\": 2098,\n        \"samples\": [\n          144994,\n          155500,\n          200000\n        ],\n        \"semantic_type\": \"\",\n        \"description\": \"\"\n      }\n    },\n    {\n      \"column\": \"Beds\",\n      \"properties\": {\n        \"dtype\": \"number\",\n        \"std\": 1,\n        \"min\": 0,\n        \"max\": 12,\n        \"num_unique_values\": 13,\n        \"samples\": [\n          11,\n          8,\n          3\n        ],\n        \"semantic_type\": \"\",\n        \"description\": \"\"\n      }\n    },\n    {\n      \"column\": \"Baths\",\n      \"properties\": {\n        \"dtype\": \"number\",\n        \"std\": 1,\n        \"min\": 1,\n        \"max\": 11,\n        \"num_unique_values\": 11,\n        \"samples\": [\n          6,\n          4,\n          10\n        ],\n        \"semantic_type\": \"\",\n        \"description\": \"\"\n      }\n    },\n    {\n      \"column\": \"Type\",\n      \"properties\": {\n        \"dtype\": \"category\",\n        \"num_unique_values\": 9,\n        \"samples\": [\n          \"Hotel Apartment\",\n          \"Penthouse\",\n          \"Residential Building\"\n        ],\n        \"semantic_type\": \"\",\n        \"description\": \"\"\n      }\n    },\n    {\n      \"column\": \"Area_in_sqft\",\n      \"properties\": {\n        \"dtype\": \"number\",\n        \"std\": 2967,\n        \"min\": 74,\n        \"max\": 210254,\n        \"num_unique_values\": 4963,\n        \"samples\": [\n          3439,\n          3209,\n          863\n        ],\n        \"semantic_type\": \"\",\n        \"description\": \"\"\n      }\n    },\n    {\n      \"column\": \"Rent_per_sqft\",\n      \"properties\": {\n        \"dtype\": \"number\",\n        \"std\": 66.52331665647334,\n        \"min\": 0.0,\n        \"max\": 2182.044888,\n        \"num_unique_values\": 31327,\n        \"samples\": [\n          166.0839161,\n          126.4980027,\n          51.42857143\n        ],\n        \"semantic_type\": \"\",\n        \"description\": \"\"\n      }\n    },\n    {\n      \"column\": \"Rent_category\",\n      \"properties\": {\n        \"dtype\": \"category\",\n        \"num_unique_values\": 3,\n        \"samples\": [\n          \"Medium\",\n          \"High\",\n          \"Low\"\n        ],\n        \"semantic_type\": \"\",\n        \"description\": \"\"\n      }\n    },\n    {\n      \"column\": \"Frequency\",\n      \"properties\": {\n        \"dtype\": \"category\",\n        \"num_unique_values\": 1,\n        \"samples\": [\n          \"Yearly\"\n        ],\n        \"semantic_type\": \"\",\n        \"description\": \"\"\n      }\n    },\n    {\n      \"column\": \"Furnishing\",\n      \"properties\": {\n        \"dtype\": \"category\",\n        \"num_unique_values\": 2,\n        \"samples\": [\n          \"Furnished\"\n        ],\n        \"semantic_type\": \"\",\n        \"description\": \"\"\n      }\n    },\n    {\n      \"column\": \"Purpose\",\n      \"properties\": {\n        \"dtype\": \"category\",\n        \"num_unique_values\": 1,\n        \"samples\": [\n          \"For Rent\"\n        ],\n        \"semantic_type\": \"\",\n        \"description\": \"\"\n      }\n    },\n    {\n      \"column\": \"Posted_date\",\n      \"properties\": {\n        \"dtype\": \"category\",\n        \"num_unique_values\": 544,\n        \"samples\": [\n          \"20/02/2023\"\n        ],\n        \"semantic_type\": \"\",\n        \"description\": \"\"\n      }\n    },\n    {\n      \"column\": \"Age_of_listing_in_days\",\n      \"properties\": {\n        \"dtype\": \"number\",\n        \"std\": 72,\n        \"min\": 11,\n        \"max\": 2276,\n        \"num_unique_values\": 544,\n        \"samples\": [\n          426\n        ],\n        \"semantic_type\": \"\",\n        \"description\": \"\"\n      }\n    },\n    {\n      \"column\": \"Location\",\n      \"properties\": {\n        \"dtype\": \"category\",\n        \"num_unique_values\": 441,\n        \"samples\": [\n          \"Marina Village\"\n        ],\n        \"semantic_type\": \"\",\n        \"description\": \"\"\n      }\n    },\n    {\n      \"column\": \"City\",\n      \"properties\": {\n        \"dtype\": \"category\",\n        \"num_unique_values\": 8,\n        \"samples\": [\n          \"Ajman\"\n        ],\n        \"semantic_type\": \"\",\n        \"description\": \"\"\n      }\n    },\n    {\n      \"column\": \"Latitude\",\n      \"properties\": {\n        \"dtype\": \"category\",\n        \"num_unique_values\": 413,\n        \"samples\": [\n          \"25.27678425\"\n        ],\n        \"semantic_type\": \"\",\n        \"description\": \"\"\n      }\n    },\n    {\n      \"column\": \"Longitude\",\n      \"properties\": {\n        \"dtype\": \"category\",\n        \"num_unique_values\": 413,\n        \"samples\": [\n          \"55.51258559\"\n        ],\n        \"semantic_type\": \"\",\n        \"description\": \"\"\n      }\n    }\n  ]\n}"
            }
          },
          "metadata": {},
          "execution_count": 4
        }
      ]
    },
    {
      "cell_type": "code",
      "source": [
        "np.random.seed(42)\n",
        "sampled_df = df.sample(n=5000, replace=False)\n",
        "sampled_df"
      ],
      "metadata": {
        "colab": {
          "base_uri": "https://localhost:8080/",
          "height": 1000
        },
        "id": "CfR90fMSElLG",
        "outputId": "c210ad5c-2f8b-490b-eae2-22686abf0c16"
      },
      "execution_count": 5,
      "outputs": [
        {
          "output_type": "execute_result",
          "data": {
            "text/plain": [
              "                                                 Address     Rent  Beds  \\\n",
              "10912                  Muroor Road, Al Muroor, Abu Dhabi    63000     1   \n",
              "23835                        Al Rawda 3, Al Rawda, Ajman    75000     6   \n",
              "33609  Tower A, DAMAC Towers by Paramount Hotels and ...   220000     3   \n",
              "49935                       Chorisia I, Al Barari, Dubai  1125000     5   \n",
              "47264  Oxford Residence 2, JVC District 10, Jumeirah ...    52000     0   \n",
              "...                                                  ...      ...   ...   \n",
              "26146                                    Al Zahya, Ajman    75000     5   \n",
              "43471  Creekside 18 Tower B, Creekside 18, Dubai Cree...   145000     2   \n",
              "44351  Jumeirah Gate Tower 1, The Address Residences ...   190000     1   \n",
              "32722  Ajyad Building, JVC District 10, Jumeirah Vill...    58000     1   \n",
              "226           Al Jowhara Tower, Corniche Area, Abu Dhabi   100000     1   \n",
              "\n",
              "       Baths       Type  Area_in_sqft  Rent_per_sqft Rent_category Frequency  \\\n",
              "10912      1  Apartment           940      67.021277           Low    Yearly   \n",
              "23835      8      Villa          5000      15.000000        Medium    Yearly   \n",
              "33609      2  Apartment          1935     113.695090          High    Yearly   \n",
              "49935      2      Villa          4758     236.443884          High    Yearly   \n",
              "47264      2  Apartment           388     134.020619           Low    Yearly   \n",
              "...      ...        ...           ...            ...           ...       ...   \n",
              "26146      6      Villa          3200      23.437500        Medium    Yearly   \n",
              "43471      2  Apartment          1127     128.660160          High    Yearly   \n",
              "44351      2  Apartment           706     269.121813          High    Yearly   \n",
              "32722      2  Apartment           660      87.878788           Low    Yearly   \n",
              "226        2  Apartment           900     111.111111        Medium    Yearly   \n",
              "\n",
              "        Furnishing   Purpose Posted_date  Age_of_listing_in_days  \\\n",
              "10912  Unfurnished  For Rent  06/04/2024                      15   \n",
              "23835  Unfurnished  For Rent  07/04/2024                      14   \n",
              "33609    Furnished  For Rent  13/02/2024                      68   \n",
              "49935  Unfurnished  For Rent  26/02/2024                      55   \n",
              "47264  Unfurnished  For Rent  08/02/2024                      73   \n",
              "...            ...       ...         ...                     ...   \n",
              "26146  Unfurnished  For Rent  15/01/2024                      97   \n",
              "43471  Unfurnished  For Rent  03/04/2024                      18   \n",
              "44351    Furnished  For Rent  07/03/2024                      45   \n",
              "32722  Unfurnished  For Rent  23/10/2023                     181   \n",
              "226      Furnished  For Rent  26/03/2024                      26   \n",
              "\n",
              "                             Location       City     Latitude    Longitude  \n",
              "10912                       Al Muroor  Abu Dhabi    24.476252   54.3726749  \n",
              "23835                        Al Rawda      Ajman   25.3854439   55.4416202  \n",
              "33609                    Business Bay      Dubai  25.18942655  55.26481902  \n",
              "49935                       Al Barari      Dubai    25.118865   55.3209685  \n",
              "47264   Jumeirah Village Circle (JVC)      Dubai   25.0559446  55.20746503  \n",
              "...                               ...        ...          ...          ...  \n",
              "26146                        Al Zahya      Ajman    25.414165    55.596485  \n",
              "43471             Dubai Creek Harbour      Dubai    25.197978  55.36037961  \n",
              "44351  Jumeirah Beach Residence (JBR)      Dubai   25.0778021  55.13518095  \n",
              "32722   Jumeirah Village Circle (JVC)      Dubai   25.0559446  55.20746503  \n",
              "226                     Corniche Area  Abu Dhabi    24.484107     54.35067  \n",
              "\n",
              "[5000 rows x 17 columns]"
            ],
            "text/html": [
              "\n",
              "  <div id=\"df-940da504-0261-4537-af6e-e7ec43c57ad8\" class=\"colab-df-container\">\n",
              "    <div>\n",
              "<style scoped>\n",
              "    .dataframe tbody tr th:only-of-type {\n",
              "        vertical-align: middle;\n",
              "    }\n",
              "\n",
              "    .dataframe tbody tr th {\n",
              "        vertical-align: top;\n",
              "    }\n",
              "\n",
              "    .dataframe thead th {\n",
              "        text-align: right;\n",
              "    }\n",
              "</style>\n",
              "<table border=\"1\" class=\"dataframe\">\n",
              "  <thead>\n",
              "    <tr style=\"text-align: right;\">\n",
              "      <th></th>\n",
              "      <th>Address</th>\n",
              "      <th>Rent</th>\n",
              "      <th>Beds</th>\n",
              "      <th>Baths</th>\n",
              "      <th>Type</th>\n",
              "      <th>Area_in_sqft</th>\n",
              "      <th>Rent_per_sqft</th>\n",
              "      <th>Rent_category</th>\n",
              "      <th>Frequency</th>\n",
              "      <th>Furnishing</th>\n",
              "      <th>Purpose</th>\n",
              "      <th>Posted_date</th>\n",
              "      <th>Age_of_listing_in_days</th>\n",
              "      <th>Location</th>\n",
              "      <th>City</th>\n",
              "      <th>Latitude</th>\n",
              "      <th>Longitude</th>\n",
              "    </tr>\n",
              "  </thead>\n",
              "  <tbody>\n",
              "    <tr>\n",
              "      <th>10912</th>\n",
              "      <td>Muroor Road, Al Muroor, Abu Dhabi</td>\n",
              "      <td>63000</td>\n",
              "      <td>1</td>\n",
              "      <td>1</td>\n",
              "      <td>Apartment</td>\n",
              "      <td>940</td>\n",
              "      <td>67.021277</td>\n",
              "      <td>Low</td>\n",
              "      <td>Yearly</td>\n",
              "      <td>Unfurnished</td>\n",
              "      <td>For Rent</td>\n",
              "      <td>06/04/2024</td>\n",
              "      <td>15</td>\n",
              "      <td>Al Muroor</td>\n",
              "      <td>Abu Dhabi</td>\n",
              "      <td>24.476252</td>\n",
              "      <td>54.3726749</td>\n",
              "    </tr>\n",
              "    <tr>\n",
              "      <th>23835</th>\n",
              "      <td>Al Rawda 3, Al Rawda, Ajman</td>\n",
              "      <td>75000</td>\n",
              "      <td>6</td>\n",
              "      <td>8</td>\n",
              "      <td>Villa</td>\n",
              "      <td>5000</td>\n",
              "      <td>15.000000</td>\n",
              "      <td>Medium</td>\n",
              "      <td>Yearly</td>\n",
              "      <td>Unfurnished</td>\n",
              "      <td>For Rent</td>\n",
              "      <td>07/04/2024</td>\n",
              "      <td>14</td>\n",
              "      <td>Al Rawda</td>\n",
              "      <td>Ajman</td>\n",
              "      <td>25.3854439</td>\n",
              "      <td>55.4416202</td>\n",
              "    </tr>\n",
              "    <tr>\n",
              "      <th>33609</th>\n",
              "      <td>Tower A, DAMAC Towers by Paramount Hotels and ...</td>\n",
              "      <td>220000</td>\n",
              "      <td>3</td>\n",
              "      <td>2</td>\n",
              "      <td>Apartment</td>\n",
              "      <td>1935</td>\n",
              "      <td>113.695090</td>\n",
              "      <td>High</td>\n",
              "      <td>Yearly</td>\n",
              "      <td>Furnished</td>\n",
              "      <td>For Rent</td>\n",
              "      <td>13/02/2024</td>\n",
              "      <td>68</td>\n",
              "      <td>Business Bay</td>\n",
              "      <td>Dubai</td>\n",
              "      <td>25.18942655</td>\n",
              "      <td>55.26481902</td>\n",
              "    </tr>\n",
              "    <tr>\n",
              "      <th>49935</th>\n",
              "      <td>Chorisia I, Al Barari, Dubai</td>\n",
              "      <td>1125000</td>\n",
              "      <td>5</td>\n",
              "      <td>2</td>\n",
              "      <td>Villa</td>\n",
              "      <td>4758</td>\n",
              "      <td>236.443884</td>\n",
              "      <td>High</td>\n",
              "      <td>Yearly</td>\n",
              "      <td>Unfurnished</td>\n",
              "      <td>For Rent</td>\n",
              "      <td>26/02/2024</td>\n",
              "      <td>55</td>\n",
              "      <td>Al Barari</td>\n",
              "      <td>Dubai</td>\n",
              "      <td>25.118865</td>\n",
              "      <td>55.3209685</td>\n",
              "    </tr>\n",
              "    <tr>\n",
              "      <th>47264</th>\n",
              "      <td>Oxford Residence 2, JVC District 10, Jumeirah ...</td>\n",
              "      <td>52000</td>\n",
              "      <td>0</td>\n",
              "      <td>2</td>\n",
              "      <td>Apartment</td>\n",
              "      <td>388</td>\n",
              "      <td>134.020619</td>\n",
              "      <td>Low</td>\n",
              "      <td>Yearly</td>\n",
              "      <td>Unfurnished</td>\n",
              "      <td>For Rent</td>\n",
              "      <td>08/02/2024</td>\n",
              "      <td>73</td>\n",
              "      <td>Jumeirah Village Circle (JVC)</td>\n",
              "      <td>Dubai</td>\n",
              "      <td>25.0559446</td>\n",
              "      <td>55.20746503</td>\n",
              "    </tr>\n",
              "    <tr>\n",
              "      <th>...</th>\n",
              "      <td>...</td>\n",
              "      <td>...</td>\n",
              "      <td>...</td>\n",
              "      <td>...</td>\n",
              "      <td>...</td>\n",
              "      <td>...</td>\n",
              "      <td>...</td>\n",
              "      <td>...</td>\n",
              "      <td>...</td>\n",
              "      <td>...</td>\n",
              "      <td>...</td>\n",
              "      <td>...</td>\n",
              "      <td>...</td>\n",
              "      <td>...</td>\n",
              "      <td>...</td>\n",
              "      <td>...</td>\n",
              "      <td>...</td>\n",
              "    </tr>\n",
              "    <tr>\n",
              "      <th>26146</th>\n",
              "      <td>Al Zahya, Ajman</td>\n",
              "      <td>75000</td>\n",
              "      <td>5</td>\n",
              "      <td>6</td>\n",
              "      <td>Villa</td>\n",
              "      <td>3200</td>\n",
              "      <td>23.437500</td>\n",
              "      <td>Medium</td>\n",
              "      <td>Yearly</td>\n",
              "      <td>Unfurnished</td>\n",
              "      <td>For Rent</td>\n",
              "      <td>15/01/2024</td>\n",
              "      <td>97</td>\n",
              "      <td>Al Zahya</td>\n",
              "      <td>Ajman</td>\n",
              "      <td>25.414165</td>\n",
              "      <td>55.596485</td>\n",
              "    </tr>\n",
              "    <tr>\n",
              "      <th>43471</th>\n",
              "      <td>Creekside 18 Tower B, Creekside 18, Dubai Cree...</td>\n",
              "      <td>145000</td>\n",
              "      <td>2</td>\n",
              "      <td>2</td>\n",
              "      <td>Apartment</td>\n",
              "      <td>1127</td>\n",
              "      <td>128.660160</td>\n",
              "      <td>High</td>\n",
              "      <td>Yearly</td>\n",
              "      <td>Unfurnished</td>\n",
              "      <td>For Rent</td>\n",
              "      <td>03/04/2024</td>\n",
              "      <td>18</td>\n",
              "      <td>Dubai Creek Harbour</td>\n",
              "      <td>Dubai</td>\n",
              "      <td>25.197978</td>\n",
              "      <td>55.36037961</td>\n",
              "    </tr>\n",
              "    <tr>\n",
              "      <th>44351</th>\n",
              "      <td>Jumeirah Gate Tower 1, The Address Residences ...</td>\n",
              "      <td>190000</td>\n",
              "      <td>1</td>\n",
              "      <td>2</td>\n",
              "      <td>Apartment</td>\n",
              "      <td>706</td>\n",
              "      <td>269.121813</td>\n",
              "      <td>High</td>\n",
              "      <td>Yearly</td>\n",
              "      <td>Furnished</td>\n",
              "      <td>For Rent</td>\n",
              "      <td>07/03/2024</td>\n",
              "      <td>45</td>\n",
              "      <td>Jumeirah Beach Residence (JBR)</td>\n",
              "      <td>Dubai</td>\n",
              "      <td>25.0778021</td>\n",
              "      <td>55.13518095</td>\n",
              "    </tr>\n",
              "    <tr>\n",
              "      <th>32722</th>\n",
              "      <td>Ajyad Building, JVC District 10, Jumeirah Vill...</td>\n",
              "      <td>58000</td>\n",
              "      <td>1</td>\n",
              "      <td>2</td>\n",
              "      <td>Apartment</td>\n",
              "      <td>660</td>\n",
              "      <td>87.878788</td>\n",
              "      <td>Low</td>\n",
              "      <td>Yearly</td>\n",
              "      <td>Unfurnished</td>\n",
              "      <td>For Rent</td>\n",
              "      <td>23/10/2023</td>\n",
              "      <td>181</td>\n",
              "      <td>Jumeirah Village Circle (JVC)</td>\n",
              "      <td>Dubai</td>\n",
              "      <td>25.0559446</td>\n",
              "      <td>55.20746503</td>\n",
              "    </tr>\n",
              "    <tr>\n",
              "      <th>226</th>\n",
              "      <td>Al Jowhara Tower, Corniche Area, Abu Dhabi</td>\n",
              "      <td>100000</td>\n",
              "      <td>1</td>\n",
              "      <td>2</td>\n",
              "      <td>Apartment</td>\n",
              "      <td>900</td>\n",
              "      <td>111.111111</td>\n",
              "      <td>Medium</td>\n",
              "      <td>Yearly</td>\n",
              "      <td>Furnished</td>\n",
              "      <td>For Rent</td>\n",
              "      <td>26/03/2024</td>\n",
              "      <td>26</td>\n",
              "      <td>Corniche Area</td>\n",
              "      <td>Abu Dhabi</td>\n",
              "      <td>24.484107</td>\n",
              "      <td>54.35067</td>\n",
              "    </tr>\n",
              "  </tbody>\n",
              "</table>\n",
              "<p>5000 rows × 17 columns</p>\n",
              "</div>\n",
              "    <div class=\"colab-df-buttons\">\n",
              "\n",
              "  <div class=\"colab-df-container\">\n",
              "    <button class=\"colab-df-convert\" onclick=\"convertToInteractive('df-940da504-0261-4537-af6e-e7ec43c57ad8')\"\n",
              "            title=\"Convert this dataframe to an interactive table.\"\n",
              "            style=\"display:none;\">\n",
              "\n",
              "  <svg xmlns=\"http://www.w3.org/2000/svg\" height=\"24px\" viewBox=\"0 -960 960 960\">\n",
              "    <path d=\"M120-120v-720h720v720H120Zm60-500h600v-160H180v160Zm220 220h160v-160H400v160Zm0 220h160v-160H400v160ZM180-400h160v-160H180v160Zm440 0h160v-160H620v160ZM180-180h160v-160H180v160Zm440 0h160v-160H620v160Z\"/>\n",
              "  </svg>\n",
              "    </button>\n",
              "\n",
              "  <style>\n",
              "    .colab-df-container {\n",
              "      display:flex;\n",
              "      gap: 12px;\n",
              "    }\n",
              "\n",
              "    .colab-df-convert {\n",
              "      background-color: #E8F0FE;\n",
              "      border: none;\n",
              "      border-radius: 50%;\n",
              "      cursor: pointer;\n",
              "      display: none;\n",
              "      fill: #1967D2;\n",
              "      height: 32px;\n",
              "      padding: 0 0 0 0;\n",
              "      width: 32px;\n",
              "    }\n",
              "\n",
              "    .colab-df-convert:hover {\n",
              "      background-color: #E2EBFA;\n",
              "      box-shadow: 0px 1px 2px rgba(60, 64, 67, 0.3), 0px 1px 3px 1px rgba(60, 64, 67, 0.15);\n",
              "      fill: #174EA6;\n",
              "    }\n",
              "\n",
              "    .colab-df-buttons div {\n",
              "      margin-bottom: 4px;\n",
              "    }\n",
              "\n",
              "    [theme=dark] .colab-df-convert {\n",
              "      background-color: #3B4455;\n",
              "      fill: #D2E3FC;\n",
              "    }\n",
              "\n",
              "    [theme=dark] .colab-df-convert:hover {\n",
              "      background-color: #434B5C;\n",
              "      box-shadow: 0px 1px 3px 1px rgba(0, 0, 0, 0.15);\n",
              "      filter: drop-shadow(0px 1px 2px rgba(0, 0, 0, 0.3));\n",
              "      fill: #FFFFFF;\n",
              "    }\n",
              "  </style>\n",
              "\n",
              "    <script>\n",
              "      const buttonEl =\n",
              "        document.querySelector('#df-940da504-0261-4537-af6e-e7ec43c57ad8 button.colab-df-convert');\n",
              "      buttonEl.style.display =\n",
              "        google.colab.kernel.accessAllowed ? 'block' : 'none';\n",
              "\n",
              "      async function convertToInteractive(key) {\n",
              "        const element = document.querySelector('#df-940da504-0261-4537-af6e-e7ec43c57ad8');\n",
              "        const dataTable =\n",
              "          await google.colab.kernel.invokeFunction('convertToInteractive',\n",
              "                                                    [key], {});\n",
              "        if (!dataTable) return;\n",
              "\n",
              "        const docLinkHtml = 'Like what you see? Visit the ' +\n",
              "          '<a target=\"_blank\" href=https://colab.research.google.com/notebooks/data_table.ipynb>data table notebook</a>'\n",
              "          + ' to learn more about interactive tables.';\n",
              "        element.innerHTML = '';\n",
              "        dataTable['output_type'] = 'display_data';\n",
              "        await google.colab.output.renderOutput(dataTable, element);\n",
              "        const docLink = document.createElement('div');\n",
              "        docLink.innerHTML = docLinkHtml;\n",
              "        element.appendChild(docLink);\n",
              "      }\n",
              "    </script>\n",
              "  </div>\n",
              "\n",
              "\n",
              "<div id=\"df-6b7b489d-2bb1-42b2-91c2-737af904956b\">\n",
              "  <button class=\"colab-df-quickchart\" onclick=\"quickchart('df-6b7b489d-2bb1-42b2-91c2-737af904956b')\"\n",
              "            title=\"Suggest charts\"\n",
              "            style=\"display:none;\">\n",
              "\n",
              "<svg xmlns=\"http://www.w3.org/2000/svg\" height=\"24px\"viewBox=\"0 0 24 24\"\n",
              "     width=\"24px\">\n",
              "    <g>\n",
              "        <path d=\"M19 3H5c-1.1 0-2 .9-2 2v14c0 1.1.9 2 2 2h14c1.1 0 2-.9 2-2V5c0-1.1-.9-2-2-2zM9 17H7v-7h2v7zm4 0h-2V7h2v10zm4 0h-2v-4h2v4z\"/>\n",
              "    </g>\n",
              "</svg>\n",
              "  </button>\n",
              "\n",
              "<style>\n",
              "  .colab-df-quickchart {\n",
              "      --bg-color: #E8F0FE;\n",
              "      --fill-color: #1967D2;\n",
              "      --hover-bg-color: #E2EBFA;\n",
              "      --hover-fill-color: #174EA6;\n",
              "      --disabled-fill-color: #AAA;\n",
              "      --disabled-bg-color: #DDD;\n",
              "  }\n",
              "\n",
              "  [theme=dark] .colab-df-quickchart {\n",
              "      --bg-color: #3B4455;\n",
              "      --fill-color: #D2E3FC;\n",
              "      --hover-bg-color: #434B5C;\n",
              "      --hover-fill-color: #FFFFFF;\n",
              "      --disabled-bg-color: #3B4455;\n",
              "      --disabled-fill-color: #666;\n",
              "  }\n",
              "\n",
              "  .colab-df-quickchart {\n",
              "    background-color: var(--bg-color);\n",
              "    border: none;\n",
              "    border-radius: 50%;\n",
              "    cursor: pointer;\n",
              "    display: none;\n",
              "    fill: var(--fill-color);\n",
              "    height: 32px;\n",
              "    padding: 0;\n",
              "    width: 32px;\n",
              "  }\n",
              "\n",
              "  .colab-df-quickchart:hover {\n",
              "    background-color: var(--hover-bg-color);\n",
              "    box-shadow: 0 1px 2px rgba(60, 64, 67, 0.3), 0 1px 3px 1px rgba(60, 64, 67, 0.15);\n",
              "    fill: var(--button-hover-fill-color);\n",
              "  }\n",
              "\n",
              "  .colab-df-quickchart-complete:disabled,\n",
              "  .colab-df-quickchart-complete:disabled:hover {\n",
              "    background-color: var(--disabled-bg-color);\n",
              "    fill: var(--disabled-fill-color);\n",
              "    box-shadow: none;\n",
              "  }\n",
              "\n",
              "  .colab-df-spinner {\n",
              "    border: 2px solid var(--fill-color);\n",
              "    border-color: transparent;\n",
              "    border-bottom-color: var(--fill-color);\n",
              "    animation:\n",
              "      spin 1s steps(1) infinite;\n",
              "  }\n",
              "\n",
              "  @keyframes spin {\n",
              "    0% {\n",
              "      border-color: transparent;\n",
              "      border-bottom-color: var(--fill-color);\n",
              "      border-left-color: var(--fill-color);\n",
              "    }\n",
              "    20% {\n",
              "      border-color: transparent;\n",
              "      border-left-color: var(--fill-color);\n",
              "      border-top-color: var(--fill-color);\n",
              "    }\n",
              "    30% {\n",
              "      border-color: transparent;\n",
              "      border-left-color: var(--fill-color);\n",
              "      border-top-color: var(--fill-color);\n",
              "      border-right-color: var(--fill-color);\n",
              "    }\n",
              "    40% {\n",
              "      border-color: transparent;\n",
              "      border-right-color: var(--fill-color);\n",
              "      border-top-color: var(--fill-color);\n",
              "    }\n",
              "    60% {\n",
              "      border-color: transparent;\n",
              "      border-right-color: var(--fill-color);\n",
              "    }\n",
              "    80% {\n",
              "      border-color: transparent;\n",
              "      border-right-color: var(--fill-color);\n",
              "      border-bottom-color: var(--fill-color);\n",
              "    }\n",
              "    90% {\n",
              "      border-color: transparent;\n",
              "      border-bottom-color: var(--fill-color);\n",
              "    }\n",
              "  }\n",
              "</style>\n",
              "\n",
              "  <script>\n",
              "    async function quickchart(key) {\n",
              "      const quickchartButtonEl =\n",
              "        document.querySelector('#' + key + ' button');\n",
              "      quickchartButtonEl.disabled = true;  // To prevent multiple clicks.\n",
              "      quickchartButtonEl.classList.add('colab-df-spinner');\n",
              "      try {\n",
              "        const charts = await google.colab.kernel.invokeFunction(\n",
              "            'suggestCharts', [key], {});\n",
              "      } catch (error) {\n",
              "        console.error('Error during call to suggestCharts:', error);\n",
              "      }\n",
              "      quickchartButtonEl.classList.remove('colab-df-spinner');\n",
              "      quickchartButtonEl.classList.add('colab-df-quickchart-complete');\n",
              "    }\n",
              "    (() => {\n",
              "      let quickchartButtonEl =\n",
              "        document.querySelector('#df-6b7b489d-2bb1-42b2-91c2-737af904956b button');\n",
              "      quickchartButtonEl.style.display =\n",
              "        google.colab.kernel.accessAllowed ? 'block' : 'none';\n",
              "    })();\n",
              "  </script>\n",
              "</div>\n",
              "\n",
              "  <div id=\"id_12a8e462-8e05-464a-8440-fa8b1d849aa0\">\n",
              "    <style>\n",
              "      .colab-df-generate {\n",
              "        background-color: #E8F0FE;\n",
              "        border: none;\n",
              "        border-radius: 50%;\n",
              "        cursor: pointer;\n",
              "        display: none;\n",
              "        fill: #1967D2;\n",
              "        height: 32px;\n",
              "        padding: 0 0 0 0;\n",
              "        width: 32px;\n",
              "      }\n",
              "\n",
              "      .colab-df-generate:hover {\n",
              "        background-color: #E2EBFA;\n",
              "        box-shadow: 0px 1px 2px rgba(60, 64, 67, 0.3), 0px 1px 3px 1px rgba(60, 64, 67, 0.15);\n",
              "        fill: #174EA6;\n",
              "      }\n",
              "\n",
              "      [theme=dark] .colab-df-generate {\n",
              "        background-color: #3B4455;\n",
              "        fill: #D2E3FC;\n",
              "      }\n",
              "\n",
              "      [theme=dark] .colab-df-generate:hover {\n",
              "        background-color: #434B5C;\n",
              "        box-shadow: 0px 1px 3px 1px rgba(0, 0, 0, 0.15);\n",
              "        filter: drop-shadow(0px 1px 2px rgba(0, 0, 0, 0.3));\n",
              "        fill: #FFFFFF;\n",
              "      }\n",
              "    </style>\n",
              "    <button class=\"colab-df-generate\" onclick=\"generateWithVariable('sampled_df')\"\n",
              "            title=\"Generate code using this dataframe.\"\n",
              "            style=\"display:none;\">\n",
              "\n",
              "  <svg xmlns=\"http://www.w3.org/2000/svg\" height=\"24px\"viewBox=\"0 0 24 24\"\n",
              "       width=\"24px\">\n",
              "    <path d=\"M7,19H8.4L18.45,9,17,7.55,7,17.6ZM5,21V16.75L18.45,3.32a2,2,0,0,1,2.83,0l1.4,1.43a1.91,1.91,0,0,1,.58,1.4,1.91,1.91,0,0,1-.58,1.4L9.25,21ZM18.45,9,17,7.55Zm-12,3A5.31,5.31,0,0,0,4.9,8.1,5.31,5.31,0,0,0,1,6.5,5.31,5.31,0,0,0,4.9,4.9,5.31,5.31,0,0,0,6.5,1,5.31,5.31,0,0,0,8.1,4.9,5.31,5.31,0,0,0,12,6.5,5.46,5.46,0,0,0,6.5,12Z\"/>\n",
              "  </svg>\n",
              "    </button>\n",
              "    <script>\n",
              "      (() => {\n",
              "      const buttonEl =\n",
              "        document.querySelector('#id_12a8e462-8e05-464a-8440-fa8b1d849aa0 button.colab-df-generate');\n",
              "      buttonEl.style.display =\n",
              "        google.colab.kernel.accessAllowed ? 'block' : 'none';\n",
              "\n",
              "      buttonEl.onclick = () => {\n",
              "        google.colab.notebook.generateWithVariable('sampled_df');\n",
              "      }\n",
              "      })();\n",
              "    </script>\n",
              "  </div>\n",
              "\n",
              "    </div>\n",
              "  </div>\n"
            ],
            "application/vnd.google.colaboratory.intrinsic+json": {
              "type": "dataframe",
              "variable_name": "sampled_df",
              "summary": "{\n  \"name\": \"sampled_df\",\n  \"rows\": 5000,\n  \"fields\": [\n    {\n      \"column\": \"Address\",\n      \"properties\": {\n        \"dtype\": \"category\",\n        \"num_unique_values\": 1678,\n        \"samples\": [\n          \"Zohour 2, Zohour, UpTown Al Zahia, Al Zahia, Muwaileh, Sharjah\",\n          \"Azizi Aliyah Residence, Al Jaddaf, Dubai\",\n          \"Harbour Views 2, Harbour Views, Dubai Creek Harbour, Dubai\"\n        ],\n        \"semantic_type\": \"\",\n        \"description\": \"\"\n      }\n    },\n    {\n      \"column\": \"Rent\",\n      \"properties\": {\n        \"dtype\": \"number\",\n        \"std\": 305166,\n        \"min\": 0,\n        \"max\": 16000000,\n        \"num_unique_values\": 632,\n        \"samples\": [\n          25999,\n          20000,\n          21600\n        ],\n        \"semantic_type\": \"\",\n        \"description\": \"\"\n      }\n    },\n    {\n      \"column\": \"Beds\",\n      \"properties\": {\n        \"dtype\": \"number\",\n        \"std\": 1,\n        \"min\": 0,\n        \"max\": 11,\n        \"num_unique_values\": 12,\n        \"samples\": [\n          9,\n          10,\n          1\n        ],\n        \"semantic_type\": \"\",\n        \"description\": \"\"\n      }\n    },\n    {\n      \"column\": \"Baths\",\n      \"properties\": {\n        \"dtype\": \"number\",\n        \"std\": 1,\n        \"min\": 1,\n        \"max\": 11,\n        \"num_unique_values\": 11,\n        \"samples\": [\n          6,\n          1,\n          10\n        ],\n        \"semantic_type\": \"\",\n        \"description\": \"\"\n      }\n    },\n    {\n      \"column\": \"Type\",\n      \"properties\": {\n        \"dtype\": \"category\",\n        \"num_unique_values\": 8,\n        \"samples\": [\n          \"Villa\",\n          \"Penthouse\",\n          \"Apartment\"\n        ],\n        \"semantic_type\": \"\",\n        \"description\": \"\"\n      }\n    },\n    {\n      \"column\": \"Area_in_sqft\",\n      \"properties\": {\n        \"dtype\": \"number\",\n        \"std\": 2498,\n        \"min\": 226,\n        \"max\": 50000,\n        \"num_unique_values\": 1776,\n        \"samples\": [\n          980,\n          2250,\n          2222\n        ],\n        \"semantic_type\": \"\",\n        \"description\": \"\"\n      }\n    },\n    {\n      \"column\": \"Rent_per_sqft\",\n      \"properties\": {\n        \"dtype\": \"number\",\n        \"std\": 64.58912186834685,\n        \"min\": 0.0,\n        \"max\": 673.8260686,\n        \"num_unique_values\": 3775,\n        \"samples\": [\n          15.71653093,\n          128.6601597,\n          93.52881699\n        ],\n        \"semantic_type\": \"\",\n        \"description\": \"\"\n      }\n    },\n    {\n      \"column\": \"Rent_category\",\n      \"properties\": {\n        \"dtype\": \"category\",\n        \"num_unique_values\": 3,\n        \"samples\": [\n          \"Low\",\n          \"Medium\",\n          \"High\"\n        ],\n        \"semantic_type\": \"\",\n        \"description\": \"\"\n      }\n    },\n    {\n      \"column\": \"Frequency\",\n      \"properties\": {\n        \"dtype\": \"category\",\n        \"num_unique_values\": 1,\n        \"samples\": [\n          \"Yearly\"\n        ],\n        \"semantic_type\": \"\",\n        \"description\": \"\"\n      }\n    },\n    {\n      \"column\": \"Furnishing\",\n      \"properties\": {\n        \"dtype\": \"category\",\n        \"num_unique_values\": 2,\n        \"samples\": [\n          \"Furnished\"\n        ],\n        \"semantic_type\": \"\",\n        \"description\": \"\"\n      }\n    },\n    {\n      \"column\": \"Purpose\",\n      \"properties\": {\n        \"dtype\": \"category\",\n        \"num_unique_values\": 1,\n        \"samples\": [\n          \"For Rent\"\n        ],\n        \"semantic_type\": \"\",\n        \"description\": \"\"\n      }\n    },\n    {\n      \"column\": \"Posted_date\",\n      \"properties\": {\n        \"dtype\": \"category\",\n        \"num_unique_values\": 321,\n        \"samples\": [\n          \"05/01/2024\"\n        ],\n        \"semantic_type\": \"\",\n        \"description\": \"\"\n      }\n    },\n    {\n      \"column\": \"Age_of_listing_in_days\",\n      \"properties\": {\n        \"dtype\": \"number\",\n        \"std\": 72,\n        \"min\": 11,\n        \"max\": 1401,\n        \"num_unique_values\": 321,\n        \"samples\": [\n          107\n        ],\n        \"semantic_type\": \"\",\n        \"description\": \"\"\n      }\n    },\n    {\n      \"column\": \"Location\",\n      \"properties\": {\n        \"dtype\": \"category\",\n        \"num_unique_values\": 287,\n        \"samples\": [\n          \"Corniche Area\"\n        ],\n        \"semantic_type\": \"\",\n        \"description\": \"\"\n      }\n    },\n    {\n      \"column\": \"City\",\n      \"properties\": {\n        \"dtype\": \"category\",\n        \"num_unique_values\": 8,\n        \"samples\": [\n          \"Ajman\"\n        ],\n        \"semantic_type\": \"\",\n        \"description\": \"\"\n      }\n    },\n    {\n      \"column\": \"Latitude\",\n      \"properties\": {\n        \"dtype\": \"category\",\n        \"num_unique_values\": 284,\n        \"samples\": [\n          \"24.484107\"\n        ],\n        \"semantic_type\": \"\",\n        \"description\": \"\"\n      }\n    },\n    {\n      \"column\": \"Longitude\",\n      \"properties\": {\n        \"dtype\": \"category\",\n        \"num_unique_values\": 284,\n        \"samples\": [\n          \"54.35067\"\n        ],\n        \"semantic_type\": \"\",\n        \"description\": \"\"\n      }\n    }\n  ]\n}"
            }
          },
          "metadata": {},
          "execution_count": 5
        }
      ]
    },
    {
      "cell_type": "code",
      "source": [
        "furnishing_freq = sampled_df['Furnishing'].value_counts()\n",
        "print(furnishing_freq)"
      ],
      "metadata": {
        "colab": {
          "base_uri": "https://localhost:8080/"
        },
        "id": "rajeGZvQLMoW",
        "outputId": "48f13fb9-26dd-498f-87f5-6ffd1bf004f2"
      },
      "execution_count": 6,
      "outputs": [
        {
          "output_type": "stream",
          "name": "stdout",
          "text": [
            "Furnishing\n",
            "Unfurnished    3928\n",
            "Furnished      1072\n",
            "Name: count, dtype: int64\n"
          ]
        }
      ]
    },
    {
      "cell_type": "code",
      "source": [
        "furnished_count = furnishing_freq.get('Furnished', 0)\n",
        " # Get the count of \"furnished\" properties\n",
        "total_count =  furnishing_freq.get('Furnished', 0) + furnishing_freq.get('Unfurnished', 0) # Total number of entries in the sampled data\n",
        "\n",
        "furnished_percentage = (furnished_count / total_count) * 100\n",
        "print(f\"Percentage of furnished properties: {furnished_percentage:.2f}%\")"
      ],
      "metadata": {
        "colab": {
          "base_uri": "https://localhost:8080/"
        },
        "id": "9sXljz80LgCS",
        "outputId": "316c3062-1b3d-4e3c-b52b-aaa598182388"
      },
      "execution_count": 7,
      "outputs": [
        {
          "output_type": "stream",
          "name": "stdout",
          "text": [
            "Percentage of furnished properties: 21.44%\n"
          ]
        }
      ]
    },
    {
      "cell_type": "code",
      "source": [
        "from scipy.stats import binom\n",
        "\n",
        "# Calculate the probability of getting exactly 35 furnished properties out of 50\n",
        "p = furnished_percentage / 100  # Convert percentage to probability\n",
        "n = 50  # Number of properties surveyed\n",
        "x = 35 # Number of properties that are furnished\n",
        "\n",
        "probability_35_furnished = binom.pmf(x, n, p)\n",
        "print(f\"Probability that 35 out of 50 properties are furnished: {probability_35_furnished:.4f}\")"
      ],
      "metadata": {
        "colab": {
          "base_uri": "https://localhost:8080/"
        },
        "id": "B2ZmWP4KM4-K",
        "outputId": "c7b730c2-3699-4037-eef5-f666bcdd984e"
      },
      "execution_count": 8,
      "outputs": [
        {
          "output_type": "stream",
          "name": "stdout",
          "text": [
            "Probability that 35 out of 50 properties are furnished: 0.0000\n"
          ]
        }
      ]
    },
    {
      "cell_type": "code",
      "source": [
        "# Construct the frequency table for the \"Rent_category\" column\n",
        "rent_freq = sampled_df['Rent_category'].value_counts()\n",
        "print(rent_freq)"
      ],
      "metadata": {
        "colab": {
          "base_uri": "https://localhost:8080/"
        },
        "id": "aLKpiPGVN6yg",
        "outputId": "c3f55ee1-d3ae-4f28-adb7-ad9f8942fa3f"
      },
      "execution_count": 9,
      "outputs": [
        {
          "output_type": "stream",
          "name": "stdout",
          "text": [
            "Rent_category\n",
            "Medium    1677\n",
            "High      1665\n",
            "Low       1658\n",
            "Name: count, dtype: int64\n"
          ]
        }
      ]
    },
    {
      "cell_type": "code",
      "source": [
        "\n",
        "total_count = sampled_df.shape[0]\n",
        "\n",
        "high_percentage = (rent_freq.get('High', 0) / total_count) * 100\n",
        "medium_percentage = (rent_freq.get('Medium', 0) / total_count) * 100\n",
        "low_percentage = (rent_freq.get('Low', 0) / total_count) * 100\n",
        "\n",
        "print(f\"Percentage of High rent properties: {high_percentage:.2f}%\")\n",
        "print(f\"Percentage of Medium rent properties: {medium_percentage:.2f}%\")\n",
        "print(f\"Percentage of Low rent properties: {low_percentage:.2f}%\")"
      ],
      "metadata": {
        "colab": {
          "base_uri": "https://localhost:8080/"
        },
        "id": "JPGxzr1aOs3u",
        "outputId": "845c5dfd-7c90-4909-cf4d-fd05578666ee"
      },
      "execution_count": 10,
      "outputs": [
        {
          "output_type": "stream",
          "name": "stdout",
          "text": [
            "Percentage of High rent properties: 33.30%\n",
            "Percentage of Medium rent properties: 33.54%\n",
            "Percentage of Low rent properties: 33.16%\n"
          ]
        }
      ]
    },
    {
      "cell_type": "code",
      "source": [
        "from scipy.stats import multinomial\n",
        "\n",
        "# Calculate the probabilities\n",
        "p_low = low_percentage / 100  # Proportion of Low rent properties\n",
        "p_medium = medium_percentage / 100  # Proportion of Medium rent properties\n",
        "p_high = high_percentage / 100  # Proportion of High rent properties\n",
        "\n",
        "# Number of properties in each category\n",
        "counts = [15, 10, 25]\n",
        "\n",
        "# Calculate the probability using multinomial distribution\n",
        "probability = multinomial.pmf(counts, n=50, p=[p_low, p_medium, p_high])\n",
        "print(f\"Probability that 15 are Low rent, 10 are Medium rent, and 25 are High rent: {probability:.6f}\")"
      ],
      "metadata": {
        "colab": {
          "base_uri": "https://localhost:8080/"
        },
        "id": "YIj5ZJGwPfhx",
        "outputId": "fd68f6c7-e769-47ff-d6ba-b66ba6495777"
      },
      "execution_count": 11,
      "outputs": [
        {
          "output_type": "stream",
          "name": "stdout",
          "text": [
            "Probability that 15 are Low rent, 10 are Medium rent, and 25 are High rent: 0.000552\n"
          ]
        }
      ]
    },
    {
      "cell_type": "code",
      "source": [
        "import seaborn as sns\n",
        "import matplotlib.pyplot as plt\n",
        "sns.boxplot(x='Furnishing', y='Age_of_listing_in_days', data=sampled_df)\n",
        "plt.show()"
      ],
      "metadata": {
        "colab": {
          "base_uri": "https://localhost:8080/",
          "height": 504
        },
        "id": "30z8kvJpR5cy",
        "outputId": "baf67c19-71e3-4a4a-cca6-2716e9765f58"
      },
      "execution_count": 12,
      "outputs": [
        {
          "output_type": "stream",
          "name": "stderr",
          "text": [
            "/usr/local/lib/python3.10/dist-packages/seaborn/categorical.py:640: FutureWarning: SeriesGroupBy.grouper is deprecated and will be removed in a future version of pandas.\n",
            "  positions = grouped.grouper.result_index.to_numpy(dtype=float)\n"
          ]
        },
        {
          "output_type": "display_data",
          "data": {
            "text/plain": [
              "<Figure size 640x480 with 1 Axes>"
            ],
            "image/png": "[encoded data removed]"
          },
          "metadata": {}
        }
      ]
    },
    {
      "cell_type": "code",
      "source": [
        "#box plot analysis\n",
        "print(\"The box plot above compares the “Age_of_listing_in_days” for properties categorized as “Unfurnished” and “Furnished”. Here's an analysis based on the central values, variability, and skewness:\")\n",
        "\n",
        "print(\"1. Central Values (Median)\")\n",
        "print(\"The median for both Unfurnished and Furnished properties appears to be relatively close, with Unfurnished properties having a slightly higher median.\")\n",
        "print(\"This suggests that, on average, Unfurnished properties stay listed slightly longer than Furnished properties.\")\n",
        "print(\"2. Variability\")\n",
        "print(\"The Interquartile Range (IQR), represented by the height of the blue box, is larger for Unfurnished properties. This indicates that the age of listing varies more for Unfurnished properties compared to Furnished ones.\")\n",
        "print(\"The whiskers extend further for Unfurnished properties, again reflecting greater variability.\")\n",
        "print(\"3. Skewness and Outliers\")\n",
        "print(\"Both categories have several outliers, with Unfurnished properties having more extreme values, extending up to around 1400 days.\")\n",
        "print(\"This suggests a right-skewed distribution for the age of listings, meaning that while most properties are listed for a relatively short time, a few properties stay on the market for significantly longer.\")\n",
        "print(\"The Furnished category has fewer extreme outliers, implying that listings in this category are more consistent.\")\n"
      ],
      "metadata": {
        "colab": {
          "base_uri": "https://localhost:8080/"
        },
        "id": "eAttZJ0df3Pl",
        "outputId": "8f238f4f-ca92-4845-df2e-249a2cee1127"
      },
      "execution_count": 37,
      "outputs": [
        {
          "output_type": "stream",
          "name": "stdout",
          "text": [
            "The box plot above compares the “Age_of_listing_in_days” for properties categorized as “Unfurnished” and “Furnished”. Here's an analysis based on the central values, variability, and skewness:\n",
            "1. Central Values (Median)\n",
            "The median for both Unfurnished and Furnished properties appears to be relatively close, with Unfurnished properties having a slightly higher median.\n",
            "This suggests that, on average, Unfurnished properties stay listed slightly longer than Furnished properties.\n",
            "2. Variability\n",
            "The Interquartile Range (IQR), represented by the height of the blue box, is larger for Unfurnished properties. This indicates that the age of listing varies more for Unfurnished properties compared to Furnished ones.\n",
            "The whiskers extend further for Unfurnished properties, again reflecting greater variability.\n",
            "3. Skewness and Outliers\n",
            "Both categories have several outliers, with Unfurnished properties having more extreme values, extending up to around 1400 days.\n",
            "This suggests a right-skewed distribution for the age of listings, meaning that while most properties are listed for a relatively short time, a few properties stay on the market for significantly longer.\n",
            "The Furnished category has fewer extreme outliers, implying that listings in this category are more consistent.\n"
          ]
        }
      ]
    },
    {
      "cell_type": "code",
      "source": [
        "# Calculate mean values for each furnishing type\n",
        "mean_values = sampled_df.groupby('Furnishing')['Age_of_listing_in_days'].mean()\n",
        "print(mean_values)\n"
      ],
      "metadata": {
        "colab": {
          "base_uri": "https://localhost:8080/"
        },
        "id": "WM04V1z5SPkt",
        "outputId": "1655b103-c0dd-4b74-fa36-ce1e8ea5afe7"
      },
      "execution_count": 13,
      "outputs": [
        {
          "output_type": "stream",
          "name": "stdout",
          "text": [
            "Furnishing\n",
            "Furnished      68.251866\n",
            "Unfurnished    75.504073\n",
            "Name: Age_of_listing_in_days, dtype: float64\n"
          ]
        }
      ]
    },
    {
      "cell_type": "code",
      "source": [
        "print(\"Furnished properties have slightly longer age of listing in days compared to furnished \")"
      ],
      "metadata": {
        "id": "SfIkZhi7hPxv"
      },
      "execution_count": null,
      "outputs": []
    },
    {
      "cell_type": "code",
      "source": [
        "std_dev = sampled_df.groupby('Furnishing')['Age_of_listing_in_days'].std()\n",
        "coefficient_of_variation = (std_dev / mean_values) * 100\n",
        "\n",
        "print(\"Coefficient of Variation:\")\n",
        "print(coefficient_of_variation)"
      ],
      "metadata": {
        "colab": {
          "base_uri": "https://localhost:8080/"
        },
        "id": "4d2jM7LZUy1a",
        "outputId": "44b742b3-77c0-4412-b61b-412de62ee9d0"
      },
      "execution_count": 14,
      "outputs": [
        {
          "output_type": "stream",
          "name": "stdout",
          "text": [
            "Coefficient of Variation:\n",
            "Furnishing\n",
            "Furnished       81.125378\n",
            "Unfurnished    100.578421\n",
            "Name: Age_of_listing_in_days, dtype: float64\n"
          ]
        }
      ]
    },
    {
      "cell_type": "code",
      "source": [
        "import scipy.stats as stats\n",
        "\n",
        "# Get the sample sizes\n",
        "\n",
        "unfurnished_count= total_count-furnished_count\n",
        "\n",
        "# Calculate sample variances\n",
        "var_furnished = sampled_df[sampled_df['Furnishing'] == 'Furnished']['Age_of_listing_in_days'].var()\n",
        "var_unfurnished = sampled_df[sampled_df['Furnishing'] == 'Unfurnished']['Age_of_listing_in_days'].var()\n",
        "\n",
        "# Calculate the F-ratio\n",
        "f_ratio = var_furnished / var_unfurnished\n",
        "\n",
        "# Calculate the critical F-values\n",
        "alpha = 0.05\n",
        "f_critical_low = stats.f.ppf(alpha / 2, dfn=furnished_count - 1, dfd=unfurnished_count - 1)\n",
        "f_critical_high = stats.f.ppf(1 - alpha / 2, dfn=furnished_count - 1, dfd=unfurnished_count - 1)\n",
        "\n",
        "# Calculate the confidence interval for the ratio of variances\n",
        "ci_lower = f_ratio / f_critical_high\n",
        "ci_upper = f_ratio / f_critical_low\n",
        "\n",
        "print(f\"95% Confidence Interval for the Ratio of Variances: ({ci_lower:.4f}, {ci_upper:.4f})\")"
      ],
      "metadata": {
        "colab": {
          "base_uri": "https://localhost:8080/"
        },
        "id": "AlX70axQov1_",
        "outputId": "854d47b3-3fb6-4a7b-f764-a614cfba9914"
      },
      "execution_count": 15,
      "outputs": [
        {
          "output_type": "stream",
          "name": "stdout",
          "text": [
            "95% Confidence Interval for the Ratio of Variances: (0.4838, 0.5857)\n"
          ]
        }
      ]
    },
    {
      "cell_type": "code",
      "source": [
        "print(\"The interval is entirely less than 1. This means that the variance of furnished properties is significantly smaller than the variance of unfurnished properties.\")\n",
        "print(\"With a 95% confidence level, we can conclude that the variance of the age of listings for furnished properties is between 48.38% and 58.57% of the variance for unfurnished prope\")"
      ],
      "metadata": {
        "id": "6X89fMd4iC2v"
      },
      "execution_count": null,
      "outputs": []
    },
    {
      "cell_type": "code",
      "source": [
        "# Calculate the difference in means\n",
        "mean_furnished=np.mean(sampled_df[sampled_df['Furnishing'] == 'Furnished']['Age_of_listing_in_days'])\n",
        "mean_unfurnished=np.mean(sampled_df[sampled_df['Furnishing'] == 'Unfurnished']['Age_of_listing_in_days'])\n",
        "mean_diff =mean_furnished-mean_unfurnished\n",
        "\n",
        "# Calculate the standard error for the difference in means\n",
        "se_diff = ((var_furnished / furnished_count) + (var_unfurnished / furnished_count)) ** 0.5\n",
        "\n",
        "# Calculate degrees of freedom using Welch-Satterthwaite equation\n",
        "df = ((var_furnished / furnished_count) + (var_unfurnished / furnished_count))**2 / \\\n",
        "     (((var_furnished / furnished_count)**2 / (furnished_count - 1)) + ((var_unfurnished / furnished_count)**2 / (furnished_count - 1)))\n",
        "\n",
        "# Calculate the t critical value\n",
        "t_critical = stats.t.ppf(1 - alpha / 2, df)\n",
        "\n",
        "# Calculate the 95% confidence interval for the difference in means\n",
        "ci_mean_lower = mean_diff - t_critical * se_diff\n",
        "ci_mean_upper = mean_diff + t_critical * se_diff\n",
        "\n",
        "print(f\"95% Confidence Interval for the Difference in Mean Age of Listing: ({ci_mean_lower:.2f}, {ci_mean_upper:.2f})\")\n",
        "print(\"Since the confidence interval does not contain 0 and is entirely negative, we conclude that the mean age of listing is  different for the two groups. \")\n",
        "print(\"Specifically, furnished properties tend to be listed for a shorter duration compared to unfurnished properties.\")"
      ],
      "metadata": {
        "colab": {
          "base_uri": "https://localhost:8080/"
        },
        "id": "Sbxn73hww2LV",
        "outputId": "9176d271-4c84-448a-9ad7-60ee7e90ace7"
      },
      "execution_count": 38,
      "outputs": [
        {
          "output_type": "stream",
          "name": "stdout",
          "text": [
            "95% Confidence Interval for the Difference in Mean Age of Listing: (-12.88, -1.62)\n",
            "Since the confidence interval does not contain 0 and is entirely negative, we conclude that the mean age of listing is significantly different for the two groups. \n",
            "Specifically, furnished properties tend to be listed for a shorter duration compared to unfurnished properties.\n"
          ]
        }
      ]
    },
    {
      "cell_type": "code",
      "source": [
        "\n",
        "\n",
        "# Generate Q-Q plot\n",
        "stats.probplot(sampled_df['Rent'], dist=\"norm\", plot=plt)\n",
        "\n",
        "# Add title and labels\n",
        "plt.title('Q-Q Plot of Rent')\n",
        "plt.xlabel('Theoretical Quantiles')\n",
        "plt.ylabel('Sample Quantiles')\n",
        "\n",
        "# Show the plot\n",
        "plt.show()\n",
        "\n",
        "print(\"The plot indicates that the rent data is not normally distributed.\")\n",
        "print(\"The sharp upward curve and extreme values in the upper quantiles suggest a right-skewed distribution.\")"
      ],
      "metadata": {
        "colab": {
          "base_uri": "https://localhost:8080/",
          "height": 507
        },
        "id": "qlugOFit2e1n",
        "outputId": "d44b6c94-879f-4514-a339-6ddb4d99bd6a"
      },
      "execution_count": 39,
      "outputs": [
        {
          "output_type": "display_data",
          "data": {
            "text/plain": [
              "<Figure size 640x480 with 1 Axes>"
            ],
            "image/png": "[encoded data removed]"
          },
          "metadata": {}
        },
        {
          "output_type": "stream",
          "name": "stdout",
          "text": [
            "The plot indicates that the rent data is not normally distributed.\n",
            "The sharp upward curve and extreme values in the upper quantiles suggest a right-skewed distribution.\n"
          ]
        }
      ]
    },
    {
      "cell_type": "code",
      "source": [
        "import seaborn as sns\n",
        "import matplotlib.pyplot as plt\n",
        "\n",
        "# Select only the relevant features\n",
        "columns_of_interest = ['Rent', 'Beds', 'Baths', 'Area_in_sqft', 'Rent_per_sqft', 'Age_of_listing_in_days']\n",
        "correlation_matrix = sampled_df[columns_of_interest].corr()\n",
        "\n",
        "# Display the correlation matrix\n",
        "print(\"Correlation Coefficient Matrix:\")\n",
        "print(correlation_matrix)"
      ],
      "metadata": {
        "colab": {
          "base_uri": "https://localhost:8080/"
        },
        "id": "24Uzfpwq-ovc",
        "outputId": "f2a47493-15ee-4e03-8193-ed92af1b5e03"
      },
      "execution_count": 18,
      "outputs": [
        {
          "output_type": "stream",
          "name": "stdout",
          "text": [
            "Correlation Coefficient Matrix:\n",
            "                            Rent      Beds     Baths  Area_in_sqft  \\\n",
            "Rent                    1.000000  0.335531  0.075204      0.411208   \n",
            "Beds                    0.335531  1.000000  0.753299      0.695182   \n",
            "Baths                   0.075204  0.753299  1.000000      0.546928   \n",
            "Area_in_sqft            0.411208  0.695182  0.546928      1.000000   \n",
            "Rent_per_sqft           0.399299 -0.171400 -0.260006     -0.174977   \n",
            "Age_of_listing_in_days  0.003796  0.044340  0.043690      0.020730   \n",
            "\n",
            "                        Rent_per_sqft  Age_of_listing_in_days  \n",
            "Rent                         0.399299                0.003796  \n",
            "Beds                        -0.171400                0.044340  \n",
            "Baths                       -0.260006                0.043690  \n",
            "Area_in_sqft                -0.174977                0.020730  \n",
            "Rent_per_sqft                1.000000               -0.049376  \n",
            "Age_of_listing_in_days      -0.049376                1.000000  \n"
          ]
        }
      ]
    },
    {
      "cell_type": "code",
      "source": [
        "\n",
        "sns.heatmap(correlation_matrix, annot=True, cmap='coolwarm', linewidths=0.5, fmt=\".2f\")\n",
        "\n",
        "# Add title to the heatmap\n",
        "plt.title('Correlation Matrix Heatmap of Selected Features')\n",
        "plt.show()\n",
        "\n",
        "print(\"Baths & Beds  are most correlated withe correlation of 0.75, followed by Beds & Area in sq feet\")\n",
        "print(\" Age of listing in days & rent is least correlated with correlation of 0, followed by Area in sq feet & Age of listing in days\")"
      ],
      "metadata": {
        "colab": {
          "base_uri": "https://localhost:8080/",
          "height": 649
        },
        "id": "ZIpLdC4Q_Jh8",
        "outputId": "a915d2bc-009b-425a-8b9e-f322dc5c6ddb"
      },
      "execution_count": 40,
      "outputs": [
        {
          "output_type": "display_data",
          "data": {
            "text/plain": [
              "<Figure size 640x480 with 2 Axes>"
            ],
            "image/png": "[encoded data removed]"
          },
          "metadata": {}
        },
        {
          "output_type": "stream",
          "name": "stdout",
          "text": [
            "Baths & Beds  are most correlated withe correlation of 0.75, followed by Beds & Area in sq feet\n",
            " Age of listing in days & rent is least correlated with correlation of 0, followed by Area in sq feet & Age of listing in days\n"
          ]
        }
      ]
    },
    {
      "cell_type": "code",
      "source": [
        "# correlation analysis\n",
        "print(\"Rent:\")\n",
        "\n",
        "print(\"Has a moderate positive correlation with Area_in_sqft (0.41) and Rent_per_sqft (0.40), suggesting that as the area and rent per square foot increase, rent tends to increase.\")\n",
        "print(\"Shows a weak positive correlation with Beds (0.34), meaning a slight increase in rent with the number of beds.\")\n",
        "print(\"Has a negligible correlation with Baths (0.08) and Age_of_listing_in_days (0.00), indicating almost no relationship with these variables.\")\n",
        "print(\"Beds:\")\n",
        "\n",
        "print(\"Displays a strong positive correlation with Baths (0.75) and Area_in_sqft (0.70), indicating that more beds often come with more bathrooms and larger areas.\")\n",
        "print(\"Shows a weak negative correlation with Rent_per_sqft (-0.17), suggesting that more beds slightly decrease the rent per square foot.\")\n",
        "print(\"Has a negligible correlation with Age_of_listing_in_days (0.04).\")\n",
        "print(\"Baths:\")\n",
        "\n",
        "print(\"Has a moderate positive correlation with Area_in_sqft (0.55), suggesting that larger properties tend to have more bathrooms.\")\n",
        "print(\"\"\"Has a weak negative correlation with Rent_per_sqft (-0.26).\n",
        "Negligible correlation with Age_of_listing_in_days (0.04).\n",
        "Area_in_sqft:\n",
        "\n",
        "Displays a weak negative correlation with Rent_per_sqft (-0.17), meaning that larger properties may have a slightly lower rent per square foot.\n",
        "Negligible correlation with Age_of_listing_in_days (0.02).\n",
        "Rent_per_sqft:\n",
        "\n",
        "Weak negative correlation with Age_of_listing_in_days (-0.05), implying that older listings might slightly reduce rent per square foot.\n",
        "Age_of_listing_in_days:\n",
        "\n",
        "Shows negligible correlations with all other variables, indicating little to no relationship between the age of the listing and the other features\"\"\")"
      ],
      "metadata": {
        "colab": {
          "base_uri": "https://localhost:8080/"
        },
        "id": "GtU4HcUcl43i",
        "outputId": "ed2c14da-39bf-4bce-e36e-0bec5e8165e7"
      },
      "execution_count": 43,
      "outputs": [
        {
          "output_type": "stream",
          "name": "stdout",
          "text": [
            "Rent:\n",
            "Has a moderate positive correlation with Area_in_sqft (0.41) and Rent_per_sqft (0.40), suggesting that as the area and rent per square foot increase, rent tends to increase.\n",
            "Shows a weak positive correlation with Beds (0.34), meaning a slight increase in rent with the number of beds.\n",
            "Has a negligible correlation with Baths (0.08) and Age_of_listing_in_days (0.00), indicating almost no relationship with these variables.\n",
            "Beds:\n",
            "Displays a strong positive correlation with Baths (0.75) and Area_in_sqft (0.70), indicating that more beds often come with more bathrooms and larger areas.\n",
            "Shows a weak negative correlation with Rent_per_sqft (-0.17), suggesting that more beds slightly decrease the rent per square foot.\n",
            "Has a negligible correlation with Age_of_listing_in_days (0.04).\n",
            "Baths:\n",
            "Has a moderate positive correlation with Area_in_sqft (0.55), suggesting that larger properties tend to have more bathrooms.\n",
            "Has a weak negative correlation with Rent_per_sqft (-0.26).\n",
            "Negligible correlation with Age_of_listing_in_days (0.04).\n",
            "Area_in_sqft:\n",
            "\n",
            "Displays a weak negative correlation with Rent_per_sqft (-0.17), meaning that larger properties may have a slightly lower rent per square foot.\n",
            "Negligible correlation with Age_of_listing_in_days (0.02).\n",
            "Rent_per_sqft:\n",
            "\n",
            "Weak negative correlation with Age_of_listing_in_days (-0.05), implying that older listings might slightly reduce rent per square foot.\n",
            "Age_of_listing_in_days:\n",
            "\n",
            "Shows negligible correlations with all other variables, indicating little to no relationship between the age of the listing and the other features\n"
          ]
        }
      ]
    },
    {
      "cell_type": "code",
      "source": [
        "contingency_table = pd.crosstab(sampled_df['Rent_category'], sampled_df['City'])\n",
        "\n",
        "# Display the classification table\n",
        "print(\"Two-Way Classification Table (Contingency Table):\")\n",
        "print(contingency_table)"
      ],
      "metadata": {
        "id": "ggyf2W2m_swW",
        "colab": {
          "base_uri": "https://localhost:8080/"
        },
        "outputId": "4f6d7f6a-3c2d-4c4e-cfe2-d0984314c8d1"
      },
      "execution_count": 20,
      "outputs": [
        {
          "output_type": "stream",
          "name": "stdout",
          "text": [
            "Two-Way Classification Table (Contingency Table):\n",
            "City           Abu Dhabi  Ajman  Al Ain  Dubai  Fujairah  Ras Al Khaimah  \\\n",
            "Rent_category                                                              \n",
            "High                 431     12       4   1192         0               7   \n",
            "Low                  496    198      46    340         0              36   \n",
            "Medium               582    133      23    844         1              13   \n",
            "\n",
            "City           Sharjah  Umm Al Quwain  \n",
            "Rent_category                          \n",
            "High                19              0  \n",
            "Low                534              8  \n",
            "Medium              81              0  \n"
          ]
        }
      ]
    },
    {
      "cell_type": "code",
      "source": [
        "chi2, _, dof, _  = stats.chi2_contingency(contingency_table)\n",
        "\n",
        "print(f\"Chi-Square Test Statistic: {chi2:.4f}\")\n",
        "print(f\"Degrees of Freedom: {dof}\")"
      ],
      "metadata": {
        "colab": {
          "base_uri": "https://localhost:8080/"
        },
        "id": "BfafH0xSZ4Hi",
        "outputId": "2f6b953a-bd9a-4862-9b41-bcd685e4edb5"
      },
      "execution_count": 28,
      "outputs": [
        {
          "output_type": "stream",
          "name": "stdout",
          "text": [
            "Chi-Square Test Statistic: 1473.8423\n",
            "Degrees of Freedom: 14\n"
          ]
        }
      ]
    },
    {
      "cell_type": "code",
      "source": [
        "from scipy.stats import chi2\n",
        "alpha=0.05\n",
        "chi2_critical = chi2.ppf(1 - alpha, dof)\n",
        "\n",
        "print(f\"Chi-Square Critical Value (α = 0.05, df = 14): {chi2_critical:.4f}\")"
      ],
      "metadata": {
        "colab": {
          "base_uri": "https://localhost:8080/"
        },
        "id": "4SKgt9R5bfPu",
        "outputId": "25f4822c-2056-4051-d7e2-ba913ef8478c"
      },
      "execution_count": 24,
      "outputs": [
        {
          "output_type": "stream",
          "name": "stdout",
          "text": [
            "Chi-Square Critical Value (α = 0.05, df = 14): 23.6848\n"
          ]
        }
      ]
    },
    {
      "cell_type": "code",
      "source": [
        "print(\"H0 states that the rent category and city are not independent \\n\")\n",
        "print(\"Ha states that the rent category and city are independent \\n\")\n",
        "print(\"As the test statistic is greater than the critical value, 1473> 23.68 \\n\" )\n",
        "print(\"We reject H0, the variables are independent\")"
      ],
      "metadata": {
        "colab": {
          "base_uri": "https://localhost:8080/"
        },
        "id": "031K7VsaaIs8",
        "outputId": "29e37b71-13e4-4f80-a8e5-9fd9f48ca8e7"
      },
      "execution_count": 31,
      "outputs": [
        {
          "output_type": "stream",
          "name": "stdout",
          "text": [
            "H0 states that the rent category and city are not independent \n",
            "\n",
            "Ha states that the rent category and city are independent \n",
            "\n",
            "As the test statistic is greater than the critical value, 1473> 23.68 \n",
            "\n",
            "We reject H0, the variables are independent\n"
          ]
        }
      ]
    },
    {
      "cell_type": "code",
      "source": [
        "# Create a two-way classification table for \"rent_category\" and \"Furnishing\"\n",
        "contingency_table = pd.crosstab(sampled_df['Rent_category'], sampled_df['Furnishing'])\n",
        "\n",
        "# Display the classification table\n",
        "print(\"Two-Way Classification Table (Contingency Table):\")\n",
        "print(contingency_table)"
      ],
      "metadata": {
        "colab": {
          "base_uri": "https://localhost:8080/"
        },
        "id": "dnWQTGw4dnJi",
        "outputId": "fed2182a-c346-4b18-f3cf-dcdae4c4bc59"
      },
      "execution_count": 32,
      "outputs": [
        {
          "output_type": "stream",
          "name": "stdout",
          "text": [
            "Two-Way Classification Table (Contingency Table):\n",
            "Furnishing     Furnished  Unfurnished\n",
            "Rent_category                        \n",
            "High                 508         1157\n",
            "Low                  178         1480\n",
            "Medium               386         1291\n"
          ]
        }
      ]
    },
    {
      "cell_type": "code",
      "source": [
        "print(\"Low Rent category is more likely to be unfurnished\")"
      ],
      "metadata": {
        "id": "yAavgPGNeXl8"
      },
      "execution_count": null,
      "outputs": []
    },
    {
      "cell_type": "code",
      "source": [
        "chi2, p, dof, _  = stats.chi2_contingency(contingency_table)\n",
        "\n",
        "print(f\"Chi-Square Test Statistic: {chi2:.4f}\")\n",
        "print(f\"Degrees of Freedom: {dof}\")\n",
        "print(f\"Degrees of Freedom: {p}\")"
      ],
      "metadata": {
        "colab": {
          "base_uri": "https://localhost:8080/"
        },
        "id": "R25BdwGCedHR",
        "outputId": "69d59761-c243-4b3a-e92b-ba222f5744dd"
      },
      "execution_count": 36,
      "outputs": [
        {
          "output_type": "stream",
          "name": "stdout",
          "text": [
            "Chi-Square Test Statistic: 196.5956\n",
            "Degrees of Freedom: 2\n",
            "Degrees of Freedom: 2.0408444300487914e-43\n"
          ]
        }
      ]
    },
    {
      "cell_type": "code",
      "source": [
        "from scipy.stats import chi2\n",
        "alpha=0.05\n",
        "chi2_critical = chi2.ppf(1 - alpha, dof)\n",
        "\n",
        "print(f\"Chi-Square Critical Value (α = 0.05, df = 14): {chi2_critical:.4f}\")"
      ],
      "metadata": {
        "colab": {
          "base_uri": "https://localhost:8080/"
        },
        "id": "KC0RUeZmeq2x",
        "outputId": "adbffcbf-1b3b-4911-a820-aed0470400df"
      },
      "execution_count": 34,
      "outputs": [
        {
          "output_type": "stream",
          "name": "stdout",
          "text": [
            "Chi-Square Critical Value (α = 0.05, df = 14): 5.9915\n"
          ]
        }
      ]
    },
    {
      "cell_type": "code",
      "source": [
        "print(\"H0 states that the rent category and city are not independent \\n\")\n",
        "print(\"Ha states that the rent category and city are independent \\n\")\n",
        "print(\"As the test statistic is greater than the critical value, 196.59> 5.99 \\n\" )\n",
        "print(\"We reject H0, the variables are independent\")"
      ],
      "metadata": {
        "colab": {
          "base_uri": "https://localhost:8080/"
        },
        "id": "lfPXXNywfeXe",
        "outputId": "cffb9c6b-7bd1-4cf6-d10b-ff17fad0cab3"
      },
      "execution_count": 41,
      "outputs": [
        {
          "output_type": "stream",
          "name": "stdout",
          "text": [
            "H0 states that the rent category and city are not independent \n",
            "\n",
            "Ha states that the rent category and city are independent \n",
            "\n",
            "As the test statistic is greater than the critical value, 196.59> 5.99 \n",
            "\n",
            "We reject H0, the variables are independent\n"
          ]
        }
      ]
    }
  ]
}